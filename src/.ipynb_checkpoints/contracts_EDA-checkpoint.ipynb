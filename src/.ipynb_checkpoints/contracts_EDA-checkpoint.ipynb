{
 "cells": [
  {
   "cell_type": "markdown",
   "metadata": {},
   "source": [
    "# contracts eu-LISA"
   ]
  },
  {
   "cell_type": "markdown",
   "metadata": {},
   "source": [
    "In this script, we will explore the data extracting from the tendering of the EU. We will explore all the contracts published by eu-LISA from 2013 to 2020.\n",
    "Exploring the contracts published by eu-LISA."
   ]
  },
  {
   "cell_type": "code",
   "execution_count": 1,
   "metadata": {},
   "outputs": [],
   "source": [
    "# Packages\n",
    "import pandas as pd\n",
    "import re\n",
    "import seaborn as sns\n",
    "import matplotlib.pyplot as plt\n",
    "import plotly.express as px"
   ]
  },
  {
   "cell_type": "markdown",
   "metadata": {},
   "source": [
    "### 1. Read the dataset"
   ]
  },
  {
   "cell_type": "code",
   "execution_count": 2,
   "metadata": {},
   "outputs": [],
   "source": [
    "# Read the dataset with pandas\n",
    "df = pd.read_excel('../data/eulisa_contracts.xlsx')  "
   ]
  },
  {
   "cell_type": "code",
   "execution_count": 3,
   "metadata": {},
   "outputs": [
    {
     "data": {
      "text/html": [
       "<div>\n",
       "<style scoped>\n",
       "    .dataframe tbody tr th:only-of-type {\n",
       "        vertical-align: middle;\n",
       "    }\n",
       "\n",
       "    .dataframe tbody tr th {\n",
       "        vertical-align: top;\n",
       "    }\n",
       "\n",
       "    .dataframe thead th {\n",
       "        text-align: right;\n",
       "    }\n",
       "</style>\n",
       "<table border=\"1\" class=\"dataframe\">\n",
       "  <thead>\n",
       "    <tr style=\"text-align: right;\">\n",
       "      <th></th>\n",
       "      <th>Contract Number</th>\n",
       "      <th>Subject</th>\n",
       "      <th>Contractor</th>\n",
       "      <th>Value</th>\n",
       "      <th>Year</th>\n",
       "      <th>Comments</th>\n",
       "    </tr>\n",
       "  </thead>\n",
       "  <tbody>\n",
       "    <tr>\n",
       "      <th>0</th>\n",
       "      <td>LISA/2018/NP/08</td>\n",
       "      <td>Direct Contract for Supply and\\ninstallation o...</td>\n",
       "      <td>AS STANDARD</td>\n",
       "      <td>€ 59,998.00</td>\n",
       "      <td>2019</td>\n",
       "      <td>Annual list of contracts below the Directive t...</td>\n",
       "    </tr>\n",
       "    <tr>\n",
       "      <th>1</th>\n",
       "      <td>LISA/2019/NP/04</td>\n",
       "      <td>Framework Contract for the provision\\nof clean...</td>\n",
       "      <td>ISS PROPRETE</td>\n",
       "      <td>€ 144,000.00</td>\n",
       "      <td>2019</td>\n",
       "      <td>Annual list of contracts below the Directive t...</td>\n",
       "    </tr>\n",
       "    <tr>\n",
       "      <th>2</th>\n",
       "      <td>LISA/2019/NP/06</td>\n",
       "      <td>Framework Contract for provision,\\nmanagement ...</td>\n",
       "      <td>DALLMAYR\\nDISTRIBUTION\\nAUTOMATIQUE\\nFRANCE</td>\n",
       "      <td>€ 144,000.00</td>\n",
       "      <td>2019</td>\n",
       "      <td>Annual list of contracts below the Directive t...</td>\n",
       "    </tr>\n",
       "    <tr>\n",
       "      <th>3</th>\n",
       "      <td>LISA/2019/NP/18</td>\n",
       "      <td>Direct Contract for provision of\\nProgrammer's...</td>\n",
       "      <td>FLORES</td>\n",
       "      <td>€ 100,792.00</td>\n",
       "      <td>2019</td>\n",
       "      <td>Annual list of contracts below the Directive t...</td>\n",
       "    </tr>\n",
       "    <tr>\n",
       "      <th>4</th>\n",
       "      <td>LISA/2019/NP/02</td>\n",
       "      <td>PROVISION OF LEGAL ADVICE ON\\nSTAFF MATTERS TO...</td>\n",
       "      <td>ASHURST LLP</td>\n",
       "      <td>€ 195,000.00</td>\n",
       "      <td>2019</td>\n",
       "      <td>Contracts awarded without prior publication.</td>\n",
       "    </tr>\n",
       "  </tbody>\n",
       "</table>\n",
       "</div>"
      ],
      "text/plain": [
       "    Contract Number                                            Subject  \\\n",
       "0   LISA/2018/NP/08  Direct Contract for Supply and\\ninstallation o...   \n",
       "1   LISA/2019/NP/04  Framework Contract for the provision\\nof clean...   \n",
       "2   LISA/2019/NP/06  Framework Contract for provision,\\nmanagement ...   \n",
       "3   LISA/2019/NP/18  Direct Contract for provision of\\nProgrammer's...   \n",
       "4  LISA/2019/NP/02   PROVISION OF LEGAL ADVICE ON\\nSTAFF MATTERS TO...   \n",
       "\n",
       "                                    Contractor         Value  Year  \\\n",
       "0                                 AS STANDARD    € 59,998.00  2019   \n",
       "1                                ISS PROPRETE   € 144,000.00  2019   \n",
       "2  DALLMAYR\\nDISTRIBUTION\\nAUTOMATIQUE\\nFRANCE  € 144,000.00  2019   \n",
       "3                                      FLORES   € 100,792.00  2019   \n",
       "4                                 ASHURST LLP   € 195,000.00  2019   \n",
       "\n",
       "                                            Comments  \n",
       "0  Annual list of contracts below the Directive t...  \n",
       "1  Annual list of contracts below the Directive t...  \n",
       "2  Annual list of contracts below the Directive t...  \n",
       "3  Annual list of contracts below the Directive t...  \n",
       "4       Contracts awarded without prior publication.  "
      ]
     },
     "execution_count": 3,
     "metadata": {},
     "output_type": "execute_result"
    }
   ],
   "source": [
    "df.head()"
   ]
  },
  {
   "cell_type": "markdown",
   "metadata": {},
   "source": [
    "### 2. Clean the dataset"
   ]
  },
  {
   "cell_type": "code",
   "execution_count": 4,
   "metadata": {},
   "outputs": [],
   "source": [
    "# Remove '\\n'\n",
    "df['Subject'] = df['Subject'].str.replace('\\r\\n', ' ').str.replace('\\n', ' ')\n",
    "df['Contractor'] = df['Contractor'].str.replace('\\r\\n', ' ').str.replace('\\n', ' ')\n",
    "\n",
    "# Remove euro symbol, commas and spaces\n",
    "df['Value'] = df['Value'].str.replace('€', '')\n",
    "df['Value'] = df['Value'].str.replace(' ', '')\n",
    "df['Value'] = df['Value'].str.replace(',', '')\n",
    "\n",
    "# Transform Value type to float\n",
    "df.Value = df.Value.astype(float)"
   ]
  },
  {
   "cell_type": "code",
   "execution_count": 5,
   "metadata": {},
   "outputs": [],
   "source": [
    "# Clean some contractors names\n",
    "# Bridge3 Consortium\n",
    "df.loc[df['Contractor'] == 'Bridge3 consortium (leader: Accenture NV/SA)', 'Contractor'] = 'Bridge3 Consortium (Accenture NV/SA, HP Belgium and Morpho)'\n",
    "df.loc[df['Contractor'] == 'Bridge3 consortium', 'Contractor'] = 'Bridge3 Consortium (Accenture NV/SA, HP Belgium and Morpho)'\n",
    "df.loc[df['Contractor'] == 'Bridge3 Consortium (leader: Accenture NV/SA)', 'Contractor'] = 'Bridge3 Consortium (Accenture NV/SA, HP Belgium and Morpho)'\n",
    "df.loc[df['Contractor'] == 'BRIDGE3 CONSORTIUM', 'Contractor'] = 'Bridge3 Consortium (Accenture NV/SA, HP Belgium and Morpho)'\n",
    "df.loc[df['Contractor'] == 'Bridge3 consortium ', 'Contractor'] = 'Bridge3 Consortium (Accenture NV/SA, HP Belgium and Morpho)'\n",
    "#df.loc[df['Contractor'] == 'Bridge3 consortium (Accenture, Atos, Safran)', 'Contractor'] = 'Bridge3 consortium (Accenture NV/SA, HP Belgium and Morpho)'\n",
    "\n",
    "# ATOS Consortium\n",
    "df.loc[df['Contractor'] == 'ATOS Belgium SA/NV (leader), Accenture NV/SA (member), and Hewlett Packard Belgium BVBA/SPRL (member)', 'Contractor'] = 'ATOS consortium (ATOS, Accenture NV/SA, HP Belgium)'\n",
    "df.loc[df['Contractor'] == 'Consortium ATOS BE, Accenture Belgium, HP Belgium', 'Contractor'] = 'ATOS consortium (ATOS, Accenture NV/SA, HP Belgium)'\n",
    "df.loc[df['Contractor'] == 'Consortium (ATOS BE, Accenture Belgium, HP Belgium)', 'Contractor'] = 'ATOS consortium (ATOS, Accenture NV/SA, HP Belgium)'\n",
    "df.loc[df['Contractor'] == 'ATOS BE, Accenture BE, HP BE (consortium)', 'Contractor'] = 'ATOS consortium (ATOS, Accenture NV/SA, HP Belgium)'\n",
    "df.loc[df['Contractor'] == 'Consortium (ATOS BE, Accenture Belgium, HP Belgium)', 'Contractor'] = 'ATOS consortium (ATOS, Accenture NV/SA, HP Belgium)'\n",
    "\n",
    "\n",
    "# S3B Consortium\n",
    "df.loc[df['Contractor'] == 'Consortium S3B, consisting of Steria Benelux SA/NV (group leader), 3M Belgium BVBA/SPRL, Bull SAS', 'Contractor'] = 'S3B Consortium (Steria BE, Bull, Gemalto Cogent)'\n",
    "df.loc[df['Contractor'] == 'S3B Consortium (Steria BE, Bull, Gemalto)', 'Contractor'] = 'S3B Consortium (Steria BE, Bull, Gemalto Cogent)'\n",
    "df.loc[df['Contractor'] == 'Consortium S3B (Steria BE, Bull, Cogent)', 'Contractor'] = 'S3B Consortium (Steria BE, Bull, Gemalto Cogent)'\n",
    "df.loc[df['Contractor'] == 'S3B CONSORTIUM (STERIA BE, BULL, GEMALTO)', 'Contractor'] = 'S3B Consortium (Steria BE, Bull, Gemalto Cogent)'\n",
    "df.loc[df['Contractor'] == 'Consortium S3B (Steria BE, Bull, Cogent)', 'Contractor'] = 'S3B Consortium (Steria BE, Bull, Gemalto Cogent)'\n",
    "df.loc[df['Contractor'] == 'S3B CONSORTIUM (STERIA BE, BULL, GEMALTO)', 'Contractor'] = 'S3B Consortium (Steria BE, Bull, Gemalto Cogent)'\n",
    "df.loc[df['Contractor'] == 'Consortium S3B', 'Contractor'] = 'S3B Consortium (Steria BE, Bull, Gemalto Cogent)'\n",
    "df.loc[df['Contractor'] == 'Consortium S3B (Steria BE, Bull, Cogent)', 'Contractor'] = 'S3B Consortium (Steria BE, Bull, Gemalto Cogent)'\n",
    "df.loc[df['Contractor'] == 'Consortium S3B (Steria BE, Bull, Cogent) ', 'Contractor'] = 'S3B Consortium (Steria BE, Bull, Gemalto Cogent)'\n",
    "\n",
    "# ACTO consortium\n",
    "df.loc[df['Contractor'] == 'Consortium ACTO, consisting of Accenture SA (group leader) and Tieto Estonia AS', 'Contractor'] = 'ACTO Consortium (Accenture SA, Tieto Estonia AS)'\n",
    "df.loc[df['Contractor'] == 'CONSORTIUM ACTO (ACCENTURE SA AND TIETO ESTONIA AS)', 'Contractor'] = 'ACTO Consortium (Accenture SA, Tieto Estonia AS)'\n",
    "df.loc[df['Contractor'] == 'Consortium ACTO (Accenture SA and Tieto Estonia AS)', 'Contractor'] = 'ACTO Consortium (Accenture SA, Tieto Estonia AS)'\n",
    "df.loc[df['Contractor'] == 'Consortium ACTO (Accenture NV/SA and Tieto Estonia AS)', 'Contractor'] = 'ACTO Consortium (Accenture SA, Tieto Estonia AS)'\n",
    "\n",
    "# U2 Consortium\n",
    "df.loc[df['Contractor'] == 'Consortium U2 — Unisys SA (group leader) and UniSystems Information Technology Systems Commercial SA', 'Contractor'] = 'U2 Consortium (Unisys SA, UniSystems SA)'\n",
    "df.loc[df['Contractor'] == 'CONSORTIUM U2', 'Contractor'] = 'U2 Consortium (Unisys SA, UniSystems SA)'\n",
    "df.loc[df['Contractor'] == 'Consortium U2 (Unisys Belgium SA and Unisystems SA)', 'Contractor'] = 'U2 Consortium (Unisys SA, UniSystems SA)'\n",
    "df.loc[df['Contractor'] == 'Consortium U2', 'Contractor'] = 'U2 Consortium (Unisys SA, UniSystems SA)'\n",
    "df.loc[df['Contractor'] == 'CONSORTIUM U2 (UNISYS BELGIUM SA AND UNISYSTEMS SA)', 'Contractor'] = 'U2 Consortium (Unisys SA, UniSystems SA)'\n",
    "df.loc[df['Contractor'] == 'CONSORTIUM U2', 'Contractor'] = 'U2 Consortium (Unisys SA, UniSystems SA)'\n",
    "df.loc[df['Contractor'] == 'U2 Consortium (Unisys SA, UniSystems Information Technology Systems Commercial SA)', 'Contractor'] = 'U2 Consortium (Unisys SA, UniSystems SA)'\n",
    "df.loc[df['Contractor'] == 'Consortium U2 (Unisys Belgium SA and Unisystems Information Technology Systems Commercial SA', 'Contractor'] = 'U2 Consortium (Unisys SA, UniSystems SA)'\n",
    "df.loc[df['Contractor'] == 'Consortium U2', 'Contractor'] = 'U2 Consortium (Unisys SA, UniSystems SA)'\n",
    "df.loc[df['Contractor'] == 'U2 Consortium (Unisys SA, UniSystems Information Technology Systems Commercial SA)', 'Contractor'] = 'U2 Consortium (Unisys SA, UniSystems SA)'\n",
    "df.loc[df['Contractor'] == 'CONSORTIUM U2 ', 'Contractor'] = 'U2 Consortium (Unisys SA, UniSystems SA)'\n",
    "df.loc[df['Contractor'] == 'Consortium U2 ', 'Contractor'] = 'U2 Consortium (Unisys SA, UniSystems SA)'\n",
    "\n",
    "# Alt + Enter Consortium\n",
    "df.loc[df['Contractor'] == 'Consortium ALT+ENTER, consisting of Accenture SA (group leader) and Altran Technologies SA', 'Contractor'] = 'Alt+Enter Consortium (Accenture SA, Altran Technologies SA)'\n",
    "df.loc[df['Contractor'] == 'Consortium ALT+ENTER, consisting of Accenture SA (group leader) and Altran Technologies SA', 'Contractor'] = 'Alt+Enter Consortium (Accenture SA, Altran Technologies SA)'\n",
    "\n",
    "# Civitta Civitta Innopolis Consortium\n",
    "df.loc[df['Contractor'] == 'CONSORTIUM CIVITTA-CIVITTA INNOPOLIS', 'Contractor'] = 'Civitta Civitta Innopolis Consortium'\n",
    "df.loc[df['Contractor'] == 'Consortium Civitta Civitta-Innopolis', 'Contractor'] = 'Civitta Civitta Innopolis Consortium'\n",
    "\n",
    "# Bull Consortium\n",
    "df.loc[df['Contractor'] == 'Consortium Bull–Atos–Ernst & Young, consisting of Bull SAS (group leader), Atos Integration SAS and Ernst & Young et Associés', 'Contractor'] = 'Bull Consortium (Bull SAS, ATOS SAS, Ernst & Young)'\n",
    "df.loc[df['Contractor'] == 'CONSORTIUM BULL-ATOS-EY', 'Contractor'] = 'Bull Consortium (Bull SAS, ATOS SAS, Ernst & Young)'\n",
    "df.loc[df['Contractor'] == 'Consortium Bull SAS, ATOS Integration SAS and E&Y and associates', 'Contractor'] = 'Bull Consortium (Bull SAS, ATOS SAS, Ernst & Young)'\n",
    "\n",
    "# Tarkus Consortium\n",
    "df.loc[df['Contractor'] == 'Tarkus consortium, consisting of Everis Spain SLU succursale en Belgique (group leader), Deloitte Consulting CVBA and AS CGI Eesti', 'Contractor'] = 'Tarkus Consortium (Everis Spain, Deloitte, AS CGI Eesti)'\n",
    "\n"
   ]
  },
  {
   "cell_type": "code",
   "execution_count": 6,
   "metadata": {},
   "outputs": [
    {
     "data": {
      "text/html": [
       "<div>\n",
       "<style scoped>\n",
       "    .dataframe tbody tr th:only-of-type {\n",
       "        vertical-align: middle;\n",
       "    }\n",
       "\n",
       "    .dataframe tbody tr th {\n",
       "        vertical-align: top;\n",
       "    }\n",
       "\n",
       "    .dataframe thead th {\n",
       "        text-align: right;\n",
       "    }\n",
       "</style>\n",
       "<table border=\"1\" class=\"dataframe\">\n",
       "  <thead>\n",
       "    <tr style=\"text-align: right;\">\n",
       "      <th></th>\n",
       "      <th>Contract Number</th>\n",
       "      <th>Subject</th>\n",
       "      <th>Contractor</th>\n",
       "      <th>Value</th>\n",
       "      <th>Year</th>\n",
       "      <th>Comments</th>\n",
       "    </tr>\n",
       "  </thead>\n",
       "  <tbody>\n",
       "    <tr>\n",
       "      <th>0</th>\n",
       "      <td>LISA/2018/NP/08</td>\n",
       "      <td>Direct Contract for Supply and installation of...</td>\n",
       "      <td>AS STANDARD</td>\n",
       "      <td>59998.0</td>\n",
       "      <td>2019</td>\n",
       "      <td>Annual list of contracts below the Directive t...</td>\n",
       "    </tr>\n",
       "    <tr>\n",
       "      <th>1</th>\n",
       "      <td>LISA/2019/NP/04</td>\n",
       "      <td>Framework Contract for the provision of cleani...</td>\n",
       "      <td>ISS PROPRETE</td>\n",
       "      <td>144000.0</td>\n",
       "      <td>2019</td>\n",
       "      <td>Annual list of contracts below the Directive t...</td>\n",
       "    </tr>\n",
       "    <tr>\n",
       "      <th>2</th>\n",
       "      <td>LISA/2019/NP/06</td>\n",
       "      <td>Framework Contract for provision, management a...</td>\n",
       "      <td>DALLMAYR DISTRIBUTION AUTOMATIQUE FRANCE</td>\n",
       "      <td>144000.0</td>\n",
       "      <td>2019</td>\n",
       "      <td>Annual list of contracts below the Directive t...</td>\n",
       "    </tr>\n",
       "    <tr>\n",
       "      <th>3</th>\n",
       "      <td>LISA/2019/NP/18</td>\n",
       "      <td>Direct Contract for provision of Programmer's ...</td>\n",
       "      <td>FLORES</td>\n",
       "      <td>100792.0</td>\n",
       "      <td>2019</td>\n",
       "      <td>Annual list of contracts below the Directive t...</td>\n",
       "    </tr>\n",
       "    <tr>\n",
       "      <th>4</th>\n",
       "      <td>LISA/2019/NP/02</td>\n",
       "      <td>PROVISION OF LEGAL ADVICE ON STAFF MATTERS TO ...</td>\n",
       "      <td>ASHURST LLP</td>\n",
       "      <td>195000.0</td>\n",
       "      <td>2019</td>\n",
       "      <td>Contracts awarded without prior publication.</td>\n",
       "    </tr>\n",
       "  </tbody>\n",
       "</table>\n",
       "</div>"
      ],
      "text/plain": [
       "    Contract Number                                            Subject  \\\n",
       "0   LISA/2018/NP/08  Direct Contract for Supply and installation of...   \n",
       "1   LISA/2019/NP/04  Framework Contract for the provision of cleani...   \n",
       "2   LISA/2019/NP/06  Framework Contract for provision, management a...   \n",
       "3   LISA/2019/NP/18  Direct Contract for provision of Programmer's ...   \n",
       "4  LISA/2019/NP/02   PROVISION OF LEGAL ADVICE ON STAFF MATTERS TO ...   \n",
       "\n",
       "                                 Contractor     Value  Year  \\\n",
       "0                              AS STANDARD    59998.0  2019   \n",
       "1                             ISS PROPRETE   144000.0  2019   \n",
       "2  DALLMAYR DISTRIBUTION AUTOMATIQUE FRANCE  144000.0  2019   \n",
       "3                                   FLORES   100792.0  2019   \n",
       "4                              ASHURST LLP   195000.0  2019   \n",
       "\n",
       "                                            Comments  \n",
       "0  Annual list of contracts below the Directive t...  \n",
       "1  Annual list of contracts below the Directive t...  \n",
       "2  Annual list of contracts below the Directive t...  \n",
       "3  Annual list of contracts below the Directive t...  \n",
       "4       Contracts awarded without prior publication.  "
      ]
     },
     "execution_count": 6,
     "metadata": {},
     "output_type": "execute_result"
    }
   ],
   "source": [
    "# See the result\n",
    "df.head()"
   ]
  },
  {
   "cell_type": "markdown",
   "metadata": {},
   "source": [
    "### 3. Start analysis"
   ]
  },
  {
   "cell_type": "markdown",
   "metadata": {},
   "source": [
    "#### 3.1. What contractors recieved most value?"
   ]
  },
  {
   "cell_type": "code",
   "execution_count": 7,
   "metadata": {},
   "outputs": [
    {
     "data": {
      "text/html": [
       "<div>\n",
       "<style scoped>\n",
       "    .dataframe tbody tr th:only-of-type {\n",
       "        vertical-align: middle;\n",
       "    }\n",
       "\n",
       "    .dataframe tbody tr th {\n",
       "        vertical-align: top;\n",
       "    }\n",
       "\n",
       "    .dataframe thead th {\n",
       "        text-align: right;\n",
       "    }\n",
       "</style>\n",
       "<table border=\"1\" class=\"dataframe\">\n",
       "  <thead>\n",
       "    <tr style=\"text-align: right;\">\n",
       "      <th></th>\n",
       "      <th>Contractor</th>\n",
       "      <th>Value</th>\n",
       "    </tr>\n",
       "  </thead>\n",
       "  <tbody>\n",
       "    <tr>\n",
       "      <th>0</th>\n",
       "      <td>ACTO Consortium (Accenture SA, Tieto Estonia AS)</td>\n",
       "      <td>4.293555e+09</td>\n",
       "    </tr>\n",
       "    <tr>\n",
       "      <th>1</th>\n",
       "      <td>Bridge3 Consortium (Accenture NV/SA, HP Belgiu...</td>\n",
       "      <td>3.283733e+09</td>\n",
       "    </tr>\n",
       "    <tr>\n",
       "      <th>2</th>\n",
       "      <td>U2 Consortium (Unisys SA, UniSystems SA)</td>\n",
       "      <td>2.595820e+09</td>\n",
       "    </tr>\n",
       "    <tr>\n",
       "      <th>3</th>\n",
       "      <td>Bull Consortium (Bull SAS, ATOS SAS, Ernst &amp; Y...</td>\n",
       "      <td>2.566914e+09</td>\n",
       "    </tr>\n",
       "    <tr>\n",
       "      <th>4</th>\n",
       "      <td>Alt+Enter Consortium (Accenture SA, Altran Tec...</td>\n",
       "      <td>2.566309e+09</td>\n",
       "    </tr>\n",
       "  </tbody>\n",
       "</table>\n",
       "</div>"
      ],
      "text/plain": [
       "                                          Contractor         Value\n",
       "0   ACTO Consortium (Accenture SA, Tieto Estonia AS)  4.293555e+09\n",
       "1  Bridge3 Consortium (Accenture NV/SA, HP Belgiu...  3.283733e+09\n",
       "2           U2 Consortium (Unisys SA, UniSystems SA)  2.595820e+09\n",
       "3  Bull Consortium (Bull SAS, ATOS SAS, Ernst & Y...  2.566914e+09\n",
       "4  Alt+Enter Consortium (Accenture SA, Altran Tec...  2.566309e+09"
      ]
     },
     "execution_count": 7,
     "metadata": {},
     "output_type": "execute_result"
    }
   ],
   "source": [
    "# Prepare data\n",
    "contractor_value = df[['Value', 'Contractor']].groupby(by=\"Contractor\").sum()\n",
    "contractor_value.reset_index(level=0, inplace=True)\n",
    "contractor_value = contractor_value.sort_values('Value', ascending=False)\n",
    "contractor_value = contractor_value.reset_index()\n",
    "contractor_value = contractor_value.drop(['index'], axis=1)\n",
    "contractor_value.head()"
   ]
  },
  {
   "cell_type": "code",
   "execution_count": 8,
   "metadata": {},
   "outputs": [
    {
     "data": {
      "text/html": [
       "<div>\n",
       "<style scoped>\n",
       "    .dataframe tbody tr th:only-of-type {\n",
       "        vertical-align: middle;\n",
       "    }\n",
       "\n",
       "    .dataframe tbody tr th {\n",
       "        vertical-align: top;\n",
       "    }\n",
       "\n",
       "    .dataframe thead th {\n",
       "        text-align: right;\n",
       "    }\n",
       "</style>\n",
       "<table border=\"1\" class=\"dataframe\">\n",
       "  <thead>\n",
       "    <tr style=\"text-align: right;\">\n",
       "      <th></th>\n",
       "      <th>Contractor</th>\n",
       "      <th>Value</th>\n",
       "    </tr>\n",
       "  </thead>\n",
       "  <tbody>\n",
       "    <tr>\n",
       "      <th>0</th>\n",
       "      <td>ACTO Consortium (Accenture SA, Tieto Estonia AS)</td>\n",
       "      <td>4.293555e+09</td>\n",
       "    </tr>\n",
       "    <tr>\n",
       "      <th>1</th>\n",
       "      <td>Bridge3 Consortium (Accenture NV/SA, HP Belgiu...</td>\n",
       "      <td>3.283733e+09</td>\n",
       "    </tr>\n",
       "    <tr>\n",
       "      <th>2</th>\n",
       "      <td>U2 Consortium (Unisys SA, UniSystems SA)</td>\n",
       "      <td>2.595820e+09</td>\n",
       "    </tr>\n",
       "    <tr>\n",
       "      <th>3</th>\n",
       "      <td>Bull Consortium (Bull SAS, ATOS SAS, Ernst &amp; Y...</td>\n",
       "      <td>2.566914e+09</td>\n",
       "    </tr>\n",
       "    <tr>\n",
       "      <th>4</th>\n",
       "      <td>Alt+Enter Consortium (Accenture SA, Altran Tec...</td>\n",
       "      <td>2.566309e+09</td>\n",
       "    </tr>\n",
       "    <tr>\n",
       "      <th>5</th>\n",
       "      <td>Tarkus Consortium (Everis Spain, Deloitte, AS ...</td>\n",
       "      <td>2.145150e+09</td>\n",
       "    </tr>\n",
       "    <tr>\n",
       "      <th>6</th>\n",
       "      <td>S3B Consortium (Steria BE, Bull, Gemalto Cogent)</td>\n",
       "      <td>7.732634e+08</td>\n",
       "    </tr>\n",
       "    <tr>\n",
       "      <th>7</th>\n",
       "      <td>ATOS consortium (ATOS, Accenture NV/SA, HP Bel...</td>\n",
       "      <td>9.731255e+07</td>\n",
       "    </tr>\n",
       "    <tr>\n",
       "      <th>8</th>\n",
       "      <td>Bridge3 consortium (Accenture NV/SA, HP Belgiu...</td>\n",
       "      <td>5.162003e+07</td>\n",
       "    </tr>\n",
       "    <tr>\n",
       "      <th>9</th>\n",
       "      <td>SOPRA STERIA BENELUX SA/NV</td>\n",
       "      <td>5.040072e+07</td>\n",
       "    </tr>\n",
       "    <tr>\n",
       "      <th>10</th>\n",
       "      <td>CONSORTIUM IBM BELGIUM BVBA, ATOS BELGIUM NV A...</td>\n",
       "      <td>4.420484e+07</td>\n",
       "    </tr>\n",
       "    <tr>\n",
       "      <th>11</th>\n",
       "      <td>Everis Spain SLU</td>\n",
       "      <td>2.742924e+07</td>\n",
       "    </tr>\n",
       "    <tr>\n",
       "      <th>12</th>\n",
       "      <td>Bridge3 consortium (Accenture, Atos, Safran)</td>\n",
       "      <td>1.588944e+07</td>\n",
       "    </tr>\n",
       "    <tr>\n",
       "      <th>13</th>\n",
       "      <td>ManpowerGroup Solutions Belgium SA</td>\n",
       "      <td>9.487116e+06</td>\n",
       "    </tr>\n",
       "    <tr>\n",
       "      <th>14</th>\n",
       "      <td>Consortium Civitta, consisting of Civitta Eest...</td>\n",
       "      <td>5.915000e+06</td>\n",
       "    </tr>\n",
       "    <tr>\n",
       "      <th>15</th>\n",
       "      <td>T-SYSTEMS INTERNATIONAL GMBH</td>\n",
       "      <td>5.359793e+06</td>\n",
       "    </tr>\n",
       "    <tr>\n",
       "      <th>16</th>\n",
       "      <td>EVERIS SPAIN SLU</td>\n",
       "      <td>4.682934e+06</td>\n",
       "    </tr>\n",
       "    <tr>\n",
       "      <th>17</th>\n",
       "      <td>Consortium Propager and News Travel</td>\n",
       "      <td>4.256380e+06</td>\n",
       "    </tr>\n",
       "    <tr>\n",
       "      <th>18</th>\n",
       "      <td>NTT BELGIUM</td>\n",
       "      <td>4.053904e+06</td>\n",
       "    </tr>\n",
       "    <tr>\n",
       "      <th>19</th>\n",
       "      <td>infeurope SA</td>\n",
       "      <td>3.572116e+06</td>\n",
       "    </tr>\n",
       "    <tr>\n",
       "      <th>20</th>\n",
       "      <td>COMLIN ASSOCIATION MOMENTANEE</td>\n",
       "      <td>3.149761e+06</td>\n",
       "    </tr>\n",
       "    <tr>\n",
       "      <th>21</th>\n",
       "      <td>Civitta Civitta Innopolis Consortium</td>\n",
       "      <td>2.400798e+06</td>\n",
       "    </tr>\n",
       "    <tr>\n",
       "      <th>22</th>\n",
       "      <td>Infeurope SA</td>\n",
       "      <td>2.313236e+06</td>\n",
       "    </tr>\n",
       "    <tr>\n",
       "      <th>23</th>\n",
       "      <td>COMPAREX Nederland BV</td>\n",
       "      <td>2.297730e+06</td>\n",
       "    </tr>\n",
       "    <tr>\n",
       "      <th>24</th>\n",
       "      <td>Everesta Sro</td>\n",
       "      <td>2.000000e+06</td>\n",
       "    </tr>\n",
       "    <tr>\n",
       "      <th>25</th>\n",
       "      <td>ADRIA CONGREX SRL</td>\n",
       "      <td>1.947469e+06</td>\n",
       "    </tr>\n",
       "    <tr>\n",
       "      <th>26</th>\n",
       "      <td>SECURITAS FRANCE SARL</td>\n",
       "      <td>1.705655e+06</td>\n",
       "    </tr>\n",
       "    <tr>\n",
       "      <th>27</th>\n",
       "      <td>Consortium Civitta-Civitta Innopolis</td>\n",
       "      <td>1.526812e+06</td>\n",
       "    </tr>\n",
       "    <tr>\n",
       "      <th>28</th>\n",
       "      <td>Mostra SA</td>\n",
       "      <td>1.500000e+06</td>\n",
       "    </tr>\n",
       "    <tr>\n",
       "      <th>29</th>\n",
       "      <td>Consortium PWC EU Services EESV -Everis Spain SLU</td>\n",
       "      <td>1.438440e+06</td>\n",
       "    </tr>\n",
       "    <tr>\n",
       "      <th>...</th>\n",
       "      <td>...</td>\n",
       "      <td>...</td>\n",
       "    </tr>\n",
       "    <tr>\n",
       "      <th>151</th>\n",
       "      <td>Oracle</td>\n",
       "      <td>3.424066e+04</td>\n",
       "    </tr>\n",
       "    <tr>\n",
       "      <th>152</th>\n",
       "      <td>Linkedin Ireland Unlimited Company</td>\n",
       "      <td>3.177000e+04</td>\n",
       "    </tr>\n",
       "    <tr>\n",
       "      <th>153</th>\n",
       "      <td>Hi-Tech Detection Systems SAS</td>\n",
       "      <td>3.161500e+04</td>\n",
       "    </tr>\n",
       "    <tr>\n",
       "      <th>154</th>\n",
       "      <td>Cleaning services for eu-LISA TLL</td>\n",
       "      <td>3.000000e+04</td>\n",
       "    </tr>\n",
       "    <tr>\n",
       "      <th>155</th>\n",
       "      <td>One Point Academy</td>\n",
       "      <td>2.996500e+04</td>\n",
       "    </tr>\n",
       "    <tr>\n",
       "      <th>156</th>\n",
       "      <td>Comparex Nederland</td>\n",
       "      <td>2.978320e+04</td>\n",
       "    </tr>\n",
       "    <tr>\n",
       "      <th>157</th>\n",
       "      <td>Astlanda Hotelli AS</td>\n",
       "      <td>2.934759e+04</td>\n",
       "    </tr>\n",
       "    <tr>\n",
       "      <th>158</th>\n",
       "      <td>Baker Tilly Belgium</td>\n",
       "      <td>2.910000e+04</td>\n",
       "    </tr>\n",
       "    <tr>\n",
       "      <th>159</th>\n",
       "      <td>KPMG AG</td>\n",
       "      <td>2.617800e+04</td>\n",
       "    </tr>\n",
       "    <tr>\n",
       "      <th>160</th>\n",
       "      <td>COMLIN Association</td>\n",
       "      <td>2.440382e+04</td>\n",
       "    </tr>\n",
       "    <tr>\n",
       "      <th>161</th>\n",
       "      <td>Insight Technology Solutions Belgium Inc.</td>\n",
       "      <td>2.389502e+04</td>\n",
       "    </tr>\n",
       "    <tr>\n",
       "      <th>162</th>\n",
       "      <td>Axima Concept</td>\n",
       "      <td>2.247500e+04</td>\n",
       "    </tr>\n",
       "    <tr>\n",
       "      <th>163</th>\n",
       "      <td>Consortium CANON</td>\n",
       "      <td>2.240747e+04</td>\n",
       "    </tr>\n",
       "    <tr>\n",
       "      <th>164</th>\n",
       "      <td>PricewaterhouseC oopers</td>\n",
       "      <td>2.075000e+04</td>\n",
       "    </tr>\n",
       "    <tr>\n",
       "      <th>165</th>\n",
       "      <td>Dromeas</td>\n",
       "      <td>2.062796e+04</td>\n",
       "    </tr>\n",
       "    <tr>\n",
       "      <th>166</th>\n",
       "      <td>Cleaning Services</td>\n",
       "      <td>2.000000e+04</td>\n",
       "    </tr>\n",
       "    <tr>\n",
       "      <th>167</th>\n",
       "      <td>Electric Windows Blinds Supply to eu-LISA's ne...</td>\n",
       "      <td>1.920000e+04</td>\n",
       "    </tr>\n",
       "    <tr>\n",
       "      <th>168</th>\n",
       "      <td>T-Systems International</td>\n",
       "      <td>1.880934e+04</td>\n",
       "    </tr>\n",
       "    <tr>\n",
       "      <th>169</th>\n",
       "      <td>GETSYS LUXEMBOURG ASSOCIATION MOMEN</td>\n",
       "      <td>1.843560e+04</td>\n",
       "    </tr>\n",
       "    <tr>\n",
       "      <th>170</th>\n",
       "      <td>CANCOM ON LINE GMBH</td>\n",
       "      <td>1.824963e+04</td>\n",
       "    </tr>\n",
       "    <tr>\n",
       "      <th>171</th>\n",
       "      <td>Demos SA</td>\n",
       "      <td>1.773300e+04</td>\n",
       "    </tr>\n",
       "    <tr>\n",
       "      <th>172</th>\n",
       "      <td>CANCOM ON LINE</td>\n",
       "      <td>1.508904e+04</td>\n",
       "    </tr>\n",
       "    <tr>\n",
       "      <th>173</th>\n",
       "      <td>Systemat Luxembourg PSF sa</td>\n",
       "      <td>1.472058e+04</td>\n",
       "    </tr>\n",
       "    <tr>\n",
       "      <th>174</th>\n",
       "      <td>KeyJob</td>\n",
       "      <td>9.764400e+03</td>\n",
       "    </tr>\n",
       "    <tr>\n",
       "      <th>175</th>\n",
       "      <td>EFE Group</td>\n",
       "      <td>9.720280e+03</td>\n",
       "    </tr>\n",
       "    <tr>\n",
       "      <th>176</th>\n",
       "      <td>Infotark OU</td>\n",
       "      <td>7.130100e+03</td>\n",
       "    </tr>\n",
       "    <tr>\n",
       "      <th>177</th>\n",
       "      <td>Abilways</td>\n",
       "      <td>5.070000e+03</td>\n",
       "    </tr>\n",
       "    <tr>\n",
       "      <th>178</th>\n",
       "      <td>Lyreco France</td>\n",
       "      <td>4.128000e+03</td>\n",
       "    </tr>\n",
       "    <tr>\n",
       "      <th>179</th>\n",
       "      <td>European Institute of Public Administration</td>\n",
       "      <td>1.800000e+03</td>\n",
       "    </tr>\n",
       "    <tr>\n",
       "      <th>180</th>\n",
       "      <td>SAP Belgium SA</td>\n",
       "      <td>0.000000e+00</td>\n",
       "    </tr>\n",
       "  </tbody>\n",
       "</table>\n",
       "<p>181 rows × 2 columns</p>\n",
       "</div>"
      ],
      "text/plain": [
       "                                            Contractor         Value\n",
       "0     ACTO Consortium (Accenture SA, Tieto Estonia AS)  4.293555e+09\n",
       "1    Bridge3 Consortium (Accenture NV/SA, HP Belgiu...  3.283733e+09\n",
       "2             U2 Consortium (Unisys SA, UniSystems SA)  2.595820e+09\n",
       "3    Bull Consortium (Bull SAS, ATOS SAS, Ernst & Y...  2.566914e+09\n",
       "4    Alt+Enter Consortium (Accenture SA, Altran Tec...  2.566309e+09\n",
       "5    Tarkus Consortium (Everis Spain, Deloitte, AS ...  2.145150e+09\n",
       "6     S3B Consortium (Steria BE, Bull, Gemalto Cogent)  7.732634e+08\n",
       "7    ATOS consortium (ATOS, Accenture NV/SA, HP Bel...  9.731255e+07\n",
       "8    Bridge3 consortium (Accenture NV/SA, HP Belgiu...  5.162003e+07\n",
       "9                           SOPRA STERIA BENELUX SA/NV  5.040072e+07\n",
       "10   CONSORTIUM IBM BELGIUM BVBA, ATOS BELGIUM NV A...  4.420484e+07\n",
       "11                                   Everis Spain SLU   2.742924e+07\n",
       "12        Bridge3 consortium (Accenture, Atos, Safran)  1.588944e+07\n",
       "13                  ManpowerGroup Solutions Belgium SA  9.487116e+06\n",
       "14   Consortium Civitta, consisting of Civitta Eest...  5.915000e+06\n",
       "15                        T-SYSTEMS INTERNATIONAL GMBH  5.359793e+06\n",
       "16                                   EVERIS SPAIN SLU   4.682934e+06\n",
       "17                 Consortium Propager and News Travel  4.256380e+06\n",
       "18                                        NTT BELGIUM   4.053904e+06\n",
       "19                                        infeurope SA  3.572116e+06\n",
       "20                       COMLIN ASSOCIATION MOMENTANEE  3.149761e+06\n",
       "21                Civitta Civitta Innopolis Consortium  2.400798e+06\n",
       "22                                       Infeurope SA   2.313236e+06\n",
       "23                              COMPAREX Nederland BV   2.297730e+06\n",
       "24                                        Everesta Sro  2.000000e+06\n",
       "25                                   ADRIA CONGREX SRL  1.947469e+06\n",
       "26                               SECURITAS FRANCE SARL  1.705655e+06\n",
       "27                Consortium Civitta-Civitta Innopolis  1.526812e+06\n",
       "28                                           Mostra SA  1.500000e+06\n",
       "29   Consortium PWC EU Services EESV -Everis Spain SLU  1.438440e+06\n",
       "..                                                 ...           ...\n",
       "151                                            Oracle   3.424066e+04\n",
       "152                 Linkedin Ireland Unlimited Company  3.177000e+04\n",
       "153                     Hi-Tech Detection Systems SAS   3.161500e+04\n",
       "154                 Cleaning services for eu-LISA TLL   3.000000e+04\n",
       "155                                  One Point Academy  2.996500e+04\n",
       "156                                Comparex Nederland   2.978320e+04\n",
       "157                               Astlanda Hotelli AS   2.934759e+04\n",
       "158                                Baker Tilly Belgium  2.910000e+04\n",
       "159                                           KPMG AG   2.617800e+04\n",
       "160                                COMLIN Association   2.440382e+04\n",
       "161          Insight Technology Solutions Belgium Inc.  2.389502e+04\n",
       "162                                     Axima Concept   2.247500e+04\n",
       "163                                  Consortium CANON   2.240747e+04\n",
       "164                            PricewaterhouseC oopers  2.075000e+04\n",
       "165                                           Dromeas   2.062796e+04\n",
       "166                                 Cleaning Services   2.000000e+04\n",
       "167  Electric Windows Blinds Supply to eu-LISA's ne...  1.920000e+04\n",
       "168                           T-Systems International   1.880934e+04\n",
       "169                GETSYS LUXEMBOURG ASSOCIATION MOMEN  1.843560e+04\n",
       "170                                CANCOM ON LINE GMBH  1.824963e+04\n",
       "171                                          Demos SA   1.773300e+04\n",
       "172                                    CANCOM ON LINE   1.508904e+04\n",
       "173                        Systemat Luxembourg PSF sa   1.472058e+04\n",
       "174                                            KeyJob   9.764400e+03\n",
       "175                                         EFE Group   9.720280e+03\n",
       "176                                       Infotark OU   7.130100e+03\n",
       "177                                          Abilways   5.070000e+03\n",
       "178                                     Lyreco France   4.128000e+03\n",
       "179        European Institute of Public Administration  1.800000e+03\n",
       "180                                    SAP Belgium SA   0.000000e+00\n",
       "\n",
       "[181 rows x 2 columns]"
      ]
     },
     "execution_count": 8,
     "metadata": {},
     "output_type": "execute_result"
    }
   ],
   "source": [
    "contractor_value"
   ]
  },
  {
   "cell_type": "code",
   "execution_count": 9,
   "metadata": {},
   "outputs": [
    {
     "data": {
      "text/plain": [
       "'Tarkus Consortium (Everis Spain, Deloitte, AS CGI Eesti)'"
      ]
     },
     "execution_count": 9,
     "metadata": {},
     "output_type": "execute_result"
    }
   ],
   "source": [
    "contractor_value.loc[5,'Contractor']"
   ]
  },
  {
   "cell_type": "code",
   "execution_count": 10,
   "metadata": {},
   "outputs": [
    {
     "data": {
      "text/html": [
       "<div>\n",
       "<style scoped>\n",
       "    .dataframe tbody tr th:only-of-type {\n",
       "        vertical-align: middle;\n",
       "    }\n",
       "\n",
       "    .dataframe tbody tr th {\n",
       "        vertical-align: top;\n",
       "    }\n",
       "\n",
       "    .dataframe thead th {\n",
       "        text-align: right;\n",
       "    }\n",
       "</style>\n",
       "<table border=\"1\" class=\"dataframe\">\n",
       "  <thead>\n",
       "    <tr style=\"text-align: right;\">\n",
       "      <th></th>\n",
       "      <th>Contractor</th>\n",
       "      <th>Value</th>\n",
       "    </tr>\n",
       "  </thead>\n",
       "  <tbody>\n",
       "    <tr>\n",
       "      <th>0</th>\n",
       "      <td>ACTO Consortium (Accenture SA, Tieto Estonia AS)</td>\n",
       "      <td>4.293555e+09</td>\n",
       "    </tr>\n",
       "    <tr>\n",
       "      <th>1</th>\n",
       "      <td>Bridge3 Consortium (Accenture NV/SA, HP Belgiu...</td>\n",
       "      <td>3.283733e+09</td>\n",
       "    </tr>\n",
       "    <tr>\n",
       "      <th>2</th>\n",
       "      <td>U2 Consortium (Unisys SA, UniSystems SA)</td>\n",
       "      <td>2.595820e+09</td>\n",
       "    </tr>\n",
       "    <tr>\n",
       "      <th>3</th>\n",
       "      <td>Bull Consortium (Bull SAS, ATOS SAS, Ernst &amp; Y...</td>\n",
       "      <td>2.566914e+09</td>\n",
       "    </tr>\n",
       "    <tr>\n",
       "      <th>4</th>\n",
       "      <td>Alt+Enter Consortium (Accenture SA, Altran Tec...</td>\n",
       "      <td>2.566309e+09</td>\n",
       "    </tr>\n",
       "    <tr>\n",
       "      <th>5</th>\n",
       "      <td>Tarkus Consortium (Everis Spain, Deloitte, AS ...</td>\n",
       "      <td>2.145150e+09</td>\n",
       "    </tr>\n",
       "    <tr>\n",
       "      <th>6</th>\n",
       "      <td>S3B Consortium (Steria BE, Bull, Gemalto Cogent)</td>\n",
       "      <td>7.732634e+08</td>\n",
       "    </tr>\n",
       "    <tr>\n",
       "      <th>7</th>\n",
       "      <td>ATOS consortium (ATOS, Accenture NV/SA, HP Bel...</td>\n",
       "      <td>9.731255e+07</td>\n",
       "    </tr>\n",
       "    <tr>\n",
       "      <th>8</th>\n",
       "      <td>Bridge3 consortium (Accenture NV/SA, HP Belgiu...</td>\n",
       "      <td>5.162003e+07</td>\n",
       "    </tr>\n",
       "    <tr>\n",
       "      <th>9</th>\n",
       "      <td>SOPRA STERIA BENELUX SA/NV</td>\n",
       "      <td>5.040072e+07</td>\n",
       "    </tr>\n",
       "    <tr>\n",
       "      <th>10</th>\n",
       "      <td>CONSORTIUM IBM BELGIUM BVBA, ATOS BELGIUM NV A...</td>\n",
       "      <td>4.420484e+07</td>\n",
       "    </tr>\n",
       "    <tr>\n",
       "      <th>11</th>\n",
       "      <td>Everis Spain SLU</td>\n",
       "      <td>2.742924e+07</td>\n",
       "    </tr>\n",
       "    <tr>\n",
       "      <th>12</th>\n",
       "      <td>Bridge3 consortium (Accenture, Atos, Safran)</td>\n",
       "      <td>1.588944e+07</td>\n",
       "    </tr>\n",
       "    <tr>\n",
       "      <th>13</th>\n",
       "      <td>ManpowerGroup Solutions Belgium SA</td>\n",
       "      <td>9.487116e+06</td>\n",
       "    </tr>\n",
       "    <tr>\n",
       "      <th>14</th>\n",
       "      <td>Consortium Civitta, consisting of Civitta Eest...</td>\n",
       "      <td>5.915000e+06</td>\n",
       "    </tr>\n",
       "    <tr>\n",
       "      <th>15</th>\n",
       "      <td>T-SYSTEMS INTERNATIONAL GMBH</td>\n",
       "      <td>5.359793e+06</td>\n",
       "    </tr>\n",
       "    <tr>\n",
       "      <th>16</th>\n",
       "      <td>EVERIS SPAIN SLU</td>\n",
       "      <td>4.682934e+06</td>\n",
       "    </tr>\n",
       "    <tr>\n",
       "      <th>17</th>\n",
       "      <td>Consortium Propager and News Travel</td>\n",
       "      <td>4.256380e+06</td>\n",
       "    </tr>\n",
       "    <tr>\n",
       "      <th>18</th>\n",
       "      <td>NTT BELGIUM</td>\n",
       "      <td>4.053904e+06</td>\n",
       "    </tr>\n",
       "    <tr>\n",
       "      <th>19</th>\n",
       "      <td>infeurope SA</td>\n",
       "      <td>3.572116e+06</td>\n",
       "    </tr>\n",
       "    <tr>\n",
       "      <th>20</th>\n",
       "      <td>COMLIN ASSOCIATION MOMENTANEE</td>\n",
       "      <td>3.149761e+06</td>\n",
       "    </tr>\n",
       "    <tr>\n",
       "      <th>21</th>\n",
       "      <td>Civitta Civitta Innopolis Consortium</td>\n",
       "      <td>2.400798e+06</td>\n",
       "    </tr>\n",
       "    <tr>\n",
       "      <th>22</th>\n",
       "      <td>Infeurope SA</td>\n",
       "      <td>2.313236e+06</td>\n",
       "    </tr>\n",
       "    <tr>\n",
       "      <th>23</th>\n",
       "      <td>COMPAREX Nederland BV</td>\n",
       "      <td>2.297730e+06</td>\n",
       "    </tr>\n",
       "    <tr>\n",
       "      <th>24</th>\n",
       "      <td>Everesta Sro</td>\n",
       "      <td>2.000000e+06</td>\n",
       "    </tr>\n",
       "    <tr>\n",
       "      <th>25</th>\n",
       "      <td>ADRIA CONGREX SRL</td>\n",
       "      <td>1.947469e+06</td>\n",
       "    </tr>\n",
       "    <tr>\n",
       "      <th>26</th>\n",
       "      <td>SECURITAS FRANCE SARL</td>\n",
       "      <td>1.705655e+06</td>\n",
       "    </tr>\n",
       "    <tr>\n",
       "      <th>27</th>\n",
       "      <td>Consortium Civitta-Civitta Innopolis</td>\n",
       "      <td>1.526812e+06</td>\n",
       "    </tr>\n",
       "    <tr>\n",
       "      <th>28</th>\n",
       "      <td>Mostra SA</td>\n",
       "      <td>1.500000e+06</td>\n",
       "    </tr>\n",
       "    <tr>\n",
       "      <th>29</th>\n",
       "      <td>Consortium PWC EU Services EESV -Everis Spain SLU</td>\n",
       "      <td>1.438440e+06</td>\n",
       "    </tr>\n",
       "    <tr>\n",
       "      <th>30</th>\n",
       "      <td>Dimension Data Belgium SA</td>\n",
       "      <td>1.425036e+06</td>\n",
       "    </tr>\n",
       "    <tr>\n",
       "      <th>31</th>\n",
       "      <td>Dimension Data Belgium NV/SA</td>\n",
       "      <td>1.233501e+06</td>\n",
       "    </tr>\n",
       "    <tr>\n",
       "      <th>32</th>\n",
       "      <td>Deloitte Consulting CVBA</td>\n",
       "      <td>1.200000e+06</td>\n",
       "    </tr>\n",
       "    <tr>\n",
       "      <th>33</th>\n",
       "      <td>Unisys Belgium SA/NV</td>\n",
       "      <td>1.169530e+06</td>\n",
       "    </tr>\n",
       "    <tr>\n",
       "      <th>34</th>\n",
       "      <td>DIMENSION DATA BELGIUM SA</td>\n",
       "      <td>1.132199e+06</td>\n",
       "    </tr>\n",
       "    <tr>\n",
       "      <th>35</th>\n",
       "      <td>Axima Concept</td>\n",
       "      <td>1.100000e+06</td>\n",
       "    </tr>\n",
       "    <tr>\n",
       "      <th>36</th>\n",
       "      <td>Gartner Belgium BVBA</td>\n",
       "      <td>1.030955e+06</td>\n",
       "    </tr>\n",
       "    <tr>\n",
       "      <th>37</th>\n",
       "      <td>CONSORTIUM DELOITTE CONSULTING &amp; ADVISORY CVBA...</td>\n",
       "      <td>9.988186e+05</td>\n",
       "    </tr>\n",
       "    <tr>\n",
       "      <th>38</th>\n",
       "      <td>INFEUROPE SA</td>\n",
       "      <td>9.858372e+05</td>\n",
       "    </tr>\n",
       "    <tr>\n",
       "      <th>39</th>\n",
       "      <td>Everesta s.r.o.</td>\n",
       "      <td>9.745318e+05</td>\n",
       "    </tr>\n",
       "    <tr>\n",
       "      <th>40</th>\n",
       "      <td>Consortium PWC Everis</td>\n",
       "      <td>9.479000e+05</td>\n",
       "    </tr>\n",
       "    <tr>\n",
       "      <th>41</th>\n",
       "      <td>Consortium Propager and News Travel</td>\n",
       "      <td>9.200719e+05</td>\n",
       "    </tr>\n",
       "    <tr>\n",
       "      <th>42</th>\n",
       "      <td>Dimension Data Belgium</td>\n",
       "      <td>9.085626e+05</td>\n",
       "    </tr>\n",
       "    <tr>\n",
       "      <th>43</th>\n",
       "      <td>UNISYSTEMS INFORMATION TECHNOLOGY</td>\n",
       "      <td>8.895501e+05</td>\n",
       "    </tr>\n",
       "    <tr>\n",
       "      <th>44</th>\n",
       "      <td>DIMENSION DATA</td>\n",
       "      <td>8.771984e+05</td>\n",
       "    </tr>\n",
       "    <tr>\n",
       "      <th>45</th>\n",
       "      <td>COMPAREX NEDERLAND BV</td>\n",
       "      <td>8.713586e+05</td>\n",
       "    </tr>\n",
       "    <tr>\n",
       "      <th>46</th>\n",
       "      <td>ORACLE BELGIUM BVBA</td>\n",
       "      <td>7.236802e+05</td>\n",
       "    </tr>\n",
       "    <tr>\n",
       "      <th>47</th>\n",
       "      <td>Manpower Belgium</td>\n",
       "      <td>7.220798e+05</td>\n",
       "    </tr>\n",
       "    <tr>\n",
       "      <th>48</th>\n",
       "      <td>EVERESTA S.R.O</td>\n",
       "      <td>7.081574e+05</td>\n",
       "    </tr>\n",
       "    <tr>\n",
       "      <th>49</th>\n",
       "      <td>NOWY STYL - MAJENCIA</td>\n",
       "      <td>6.480464e+05</td>\n",
       "    </tr>\n",
       "    <tr>\n",
       "      <th>50</th>\n",
       "      <td>Mostra SA</td>\n",
       "      <td>6.362286e+05</td>\n",
       "    </tr>\n",
       "    <tr>\n",
       "      <th>51</th>\n",
       "      <td>AS G4S EESTI</td>\n",
       "      <td>6.355030e+05</td>\n",
       "    </tr>\n",
       "    <tr>\n",
       "      <th>52</th>\n",
       "      <td>BECHTLE BRUSSELS</td>\n",
       "      <td>6.127183e+05</td>\n",
       "    </tr>\n",
       "    <tr>\n",
       "      <th>53</th>\n",
       "      <td>INSIGHT DIRECT USA, INC.</td>\n",
       "      <td>6.019743e+05</td>\n",
       "    </tr>\n",
       "    <tr>\n",
       "      <th>54</th>\n",
       "      <td>Security services</td>\n",
       "      <td>5.500000e+05</td>\n",
       "    </tr>\n",
       "    <tr>\n",
       "      <th>55</th>\n",
       "      <td>Standard AS</td>\n",
       "      <td>5.391614e+05</td>\n",
       "    </tr>\n",
       "    <tr>\n",
       "      <th>56</th>\n",
       "      <td>ELIN GmbH &amp; Co KG</td>\n",
       "      <td>5.000000e+05</td>\n",
       "    </tr>\n",
       "    <tr>\n",
       "      <th>57</th>\n",
       "      <td>Consortium Orange/HP</td>\n",
       "      <td>4.865652e+05</td>\n",
       "    </tr>\n",
       "    <tr>\n",
       "      <th>58</th>\n",
       "      <td>T&amp;T EXECUTIVE SA</td>\n",
       "      <td>4.800000e+05</td>\n",
       "    </tr>\n",
       "    <tr>\n",
       "      <th>59</th>\n",
       "      <td>COMLIN Association Momentanee</td>\n",
       "      <td>4.728312e+05</td>\n",
       "    </tr>\n",
       "    <tr>\n",
       "      <th>60</th>\n",
       "      <td>Everesta sro</td>\n",
       "      <td>4.720990e+05</td>\n",
       "    </tr>\n",
       "    <tr>\n",
       "      <th>61</th>\n",
       "      <td>Microsoft NV/SA</td>\n",
       "      <td>4.617609e+05</td>\n",
       "    </tr>\n",
       "    <tr>\n",
       "      <th>62</th>\n",
       "      <td>ILLICON consortium (Unisys Belgium S.A., Intra...</td>\n",
       "      <td>4.570907e+05</td>\n",
       "    </tr>\n",
       "    <tr>\n",
       "      <th>63</th>\n",
       "      <td>Comparex Nederland BV</td>\n",
       "      <td>3.935256e+05</td>\n",
       "    </tr>\n",
       "    <tr>\n",
       "      <th>64</th>\n",
       "      <td>Manpower SA</td>\n",
       "      <td>3.605250e+05</td>\n",
       "    </tr>\n",
       "    <tr>\n",
       "      <th>65</th>\n",
       "      <td>Adria Congrex Srl (1st)</td>\n",
       "      <td>3.214345e+05</td>\n",
       "    </tr>\n",
       "    <tr>\n",
       "      <th>66</th>\n",
       "      <td>Deloitte Consulting CVBA / SCRL</td>\n",
       "      <td>3.193110e+05</td>\n",
       "    </tr>\n",
       "    <tr>\n",
       "      <th>67</th>\n",
       "      <td>AARPI MERIDIAN</td>\n",
       "      <td>3.060000e+05</td>\n",
       "    </tr>\n",
       "    <tr>\n",
       "      <th>68</th>\n",
       "      <td>ELIN GmbH &amp; Co KG</td>\n",
       "      <td>3.051710e+05</td>\n",
       "    </tr>\n",
       "    <tr>\n",
       "      <th>69</th>\n",
       "      <td>BECHTLE AG</td>\n",
       "      <td>3.035661e+05</td>\n",
       "    </tr>\n",
       "    <tr>\n",
       "      <th>70</th>\n",
       "      <td>COMLIN Association</td>\n",
       "      <td>3.019883e+05</td>\n",
       "    </tr>\n",
       "    <tr>\n",
       "      <th>71</th>\n",
       "      <td>Gartner Belgium BVBA</td>\n",
       "      <td>2.770000e+05</td>\n",
       "    </tr>\n",
       "    <tr>\n",
       "      <th>72</th>\n",
       "      <td>Orange SA</td>\n",
       "      <td>2.510000e+05</td>\n",
       "    </tr>\n",
       "    <tr>\n",
       "      <th>73</th>\n",
       "      <td>ES ENERGIES STRASBOURG SA</td>\n",
       "      <td>2.500000e+05</td>\n",
       "    </tr>\n",
       "    <tr>\n",
       "      <th>74</th>\n",
       "      <td>Valtech Training SAS</td>\n",
       "      <td>2.277148e+05</td>\n",
       "    </tr>\n",
       "    <tr>\n",
       "      <th>75</th>\n",
       "      <td>ISS PROPRETE</td>\n",
       "      <td>2.273600e+05</td>\n",
       "    </tr>\n",
       "    <tr>\n",
       "      <th>76</th>\n",
       "      <td>BT LIMITED BELGIAN BRANCH</td>\n",
       "      <td>2.147545e+05</td>\n",
       "    </tr>\n",
       "    <tr>\n",
       "      <th>77</th>\n",
       "      <td>POMILIO BLUMM SRL</td>\n",
       "      <td>2.085888e+05</td>\n",
       "    </tr>\n",
       "    <tr>\n",
       "      <th>78</th>\n",
       "      <td>Lyreco France SAS</td>\n",
       "      <td>2.059553e+05</td>\n",
       "    </tr>\n",
       "    <tr>\n",
       "      <th>79</th>\n",
       "      <td>AS Infotark</td>\n",
       "      <td>2.039529e+05</td>\n",
       "    </tr>\n",
       "    <tr>\n",
       "      <th>80</th>\n",
       "      <td>AS G4S EESTI*</td>\n",
       "      <td>2.023576e+05</td>\n",
       "    </tr>\n",
       "    <tr>\n",
       "      <th>81</th>\n",
       "      <td>Deloitte Consulting</td>\n",
       "      <td>2.023000e+05</td>\n",
       "    </tr>\n",
       "    <tr>\n",
       "      <th>82</th>\n",
       "      <td>MANPOWER BELGIUM</td>\n",
       "      <td>2.016996e+05</td>\n",
       "    </tr>\n",
       "    <tr>\n",
       "      <th>83</th>\n",
       "      <td>Consortium S3B</td>\n",
       "      <td>1.989711e+05</td>\n",
       "    </tr>\n",
       "    <tr>\n",
       "      <th>84</th>\n",
       "      <td>Gartner Belgium (through Gartner Ireland)</td>\n",
       "      <td>1.976100e+05</td>\n",
       "    </tr>\n",
       "    <tr>\n",
       "      <th>85</th>\n",
       "      <td>ASHURST LLP</td>\n",
       "      <td>1.950000e+05</td>\n",
       "    </tr>\n",
       "    <tr>\n",
       "      <th>86</th>\n",
       "      <td>DHL Estonia AS</td>\n",
       "      <td>1.950000e+05</td>\n",
       "    </tr>\n",
       "    <tr>\n",
       "      <th>87</th>\n",
       "      <td>ELIN Gmbh &amp; Co KG</td>\n",
       "      <td>1.938984e+05</td>\n",
       "    </tr>\n",
       "    <tr>\n",
       "      <th>88</th>\n",
       "      <td>Consortium Civitta Eesti AS, Civitta UAB and I...</td>\n",
       "      <td>1.825000e+05</td>\n",
       "    </tr>\n",
       "    <tr>\n",
       "      <th>89</th>\n",
       "      <td>T&amp;T Executive SA</td>\n",
       "      <td>1.700000e+05</td>\n",
       "    </tr>\n",
       "    <tr>\n",
       "      <th>90</th>\n",
       "      <td>American Express Corporate travel</td>\n",
       "      <td>1.647103e+05</td>\n",
       "    </tr>\n",
       "    <tr>\n",
       "      <th>91</th>\n",
       "      <td>Consortium Bull Atos-EY</td>\n",
       "      <td>1.484000e+05</td>\n",
       "    </tr>\n",
       "    <tr>\n",
       "      <th>92</th>\n",
       "      <td>PWC EU Services EESV</td>\n",
       "      <td>1.463000e+05</td>\n",
       "    </tr>\n",
       "    <tr>\n",
       "      <th>93</th>\n",
       "      <td>Stratiqo consortium</td>\n",
       "      <td>1.460079e+05</td>\n",
       "    </tr>\n",
       "    <tr>\n",
       "      <th>94</th>\n",
       "      <td>LEGAL ADVICE SERVICES</td>\n",
       "      <td>1.440000e+05</td>\n",
       "    </tr>\n",
       "    <tr>\n",
       "      <th>95</th>\n",
       "      <td>Internet, Internet Protocol and Internet Proto...</td>\n",
       "      <td>1.440000e+05</td>\n",
       "    </tr>\n",
       "    <tr>\n",
       "      <th>96</th>\n",
       "      <td>DALLMAYR DISTRIBUTION AUTOMATIQUE FRANCE</td>\n",
       "      <td>1.440000e+05</td>\n",
       "    </tr>\n",
       "    <tr>\n",
       "      <th>97</th>\n",
       "      <td>Europark Estonia OU</td>\n",
       "      <td>1.425000e+05</td>\n",
       "    </tr>\n",
       "    <tr>\n",
       "      <th>98</th>\n",
       "      <td>OMS SYNERGIE EST SAS*</td>\n",
       "      <td>1.350000e+05</td>\n",
       "    </tr>\n",
       "    <tr>\n",
       "      <th>99</th>\n",
       "      <td>Draber Neff Assurances</td>\n",
       "      <td>1.350000e+05</td>\n",
       "    </tr>\n",
       "    <tr>\n",
       "      <th>100</th>\n",
       "      <td>UNIC2EU Consortium</td>\n",
       "      <td>1.299000e+05</td>\n",
       "    </tr>\n",
       "    <tr>\n",
       "      <th>101</th>\n",
       "      <td>ELIN GMBH</td>\n",
       "      <td>1.280544e+05</td>\n",
       "    </tr>\n",
       "    <tr>\n",
       "      <th>102</th>\n",
       "      <td>Ashurst LLP</td>\n",
       "      <td>1.225000e+05</td>\n",
       "    </tr>\n",
       "    <tr>\n",
       "      <th>103</th>\n",
       "      <td>T-Systems International GmbH</td>\n",
       "      <td>1.193368e+05</td>\n",
       "    </tr>\n",
       "    <tr>\n",
       "      <th>104</th>\n",
       "      <td>SPIE Est</td>\n",
       "      <td>1.190000e+05</td>\n",
       "    </tr>\n",
       "    <tr>\n",
       "      <th>105</th>\n",
       "      <td>Bechtle Brussels SA</td>\n",
       "      <td>1.159598e+05</td>\n",
       "    </tr>\n",
       "    <tr>\n",
       "      <th>106</th>\n",
       "      <td>MICROSOFT</td>\n",
       "      <td>1.140000e+05</td>\n",
       "    </tr>\n",
       "    <tr>\n",
       "      <th>107</th>\n",
       "      <td>PRICEWATERHOUS E-COOPERS EU</td>\n",
       "      <td>1.072100e+05</td>\n",
       "    </tr>\n",
       "    <tr>\n",
       "      <th>108</th>\n",
       "      <td>Consortium Alt+ Enter</td>\n",
       "      <td>1.020492e+05</td>\n",
       "    </tr>\n",
       "    <tr>\n",
       "      <th>109</th>\n",
       "      <td>Consortium Alt+ Enter</td>\n",
       "      <td>1.020000e+05</td>\n",
       "    </tr>\n",
       "    <tr>\n",
       "      <th>110</th>\n",
       "      <td>FLORES</td>\n",
       "      <td>1.007920e+05</td>\n",
       "    </tr>\n",
       "    <tr>\n",
       "      <th>111</th>\n",
       "      <td>Accenture SA</td>\n",
       "      <td>9.785000e+04</td>\n",
       "    </tr>\n",
       "    <tr>\n",
       "      <th>112</th>\n",
       "      <td>Consortium Tarkus (Everis Spain SLU, CGI Eesti...</td>\n",
       "      <td>9.628000e+04</td>\n",
       "    </tr>\n",
       "    <tr>\n",
       "      <th>113</th>\n",
       "      <td>SPIE FACILITIES</td>\n",
       "      <td>9.064640e+04</td>\n",
       "    </tr>\n",
       "    <tr>\n",
       "      <th>114</th>\n",
       "      <td>Consortium ICF GFK</td>\n",
       "      <td>8.892500e+04</td>\n",
       "    </tr>\n",
       "    <tr>\n",
       "      <th>115</th>\n",
       "      <td>DELOITTE CONSULTING &amp; ADVISORY</td>\n",
       "      <td>8.847610e+04</td>\n",
       "    </tr>\n",
       "    <tr>\n",
       "      <th>116</th>\n",
       "      <td>Conseil Central de L`Economie</td>\n",
       "      <td>7.500000e+04</td>\n",
       "    </tr>\n",
       "    <tr>\n",
       "      <th>117</th>\n",
       "      <td>Bechtle</td>\n",
       "      <td>7.315718e+04</td>\n",
       "    </tr>\n",
       "    <tr>\n",
       "      <th>118</th>\n",
       "      <td>UNIC2EU Consortium</td>\n",
       "      <td>7.210000e+04</td>\n",
       "    </tr>\n",
       "    <tr>\n",
       "      <th>119</th>\n",
       "      <td>Meridien AARPI</td>\n",
       "      <td>7.200000e+04</td>\n",
       "    </tr>\n",
       "    <tr>\n",
       "      <th>120</th>\n",
       "      <td>Meridian AARPI</td>\n",
       "      <td>7.000000e+04</td>\n",
       "    </tr>\n",
       "    <tr>\n",
       "      <th>121</th>\n",
       "      <td>COMPAREX NEDERLAND BV</td>\n",
       "      <td>6.965835e+04</td>\n",
       "    </tr>\n",
       "    <tr>\n",
       "      <th>122</th>\n",
       "      <td>Elisa EestiAS</td>\n",
       "      <td>6.000000e+04</td>\n",
       "    </tr>\n",
       "    <tr>\n",
       "      <th>123</th>\n",
       "      <td>AS Eesti Telekom</td>\n",
       "      <td>6.000000e+04</td>\n",
       "    </tr>\n",
       "    <tr>\n",
       "      <th>124</th>\n",
       "      <td>Telia Eesti AS</td>\n",
       "      <td>6.000000e+04</td>\n",
       "    </tr>\n",
       "    <tr>\n",
       "      <th>125</th>\n",
       "      <td>AS ATEA</td>\n",
       "      <td>6.000000e+04</td>\n",
       "    </tr>\n",
       "    <tr>\n",
       "      <th>126</th>\n",
       "      <td>OMS SYNERGIE EST SAS</td>\n",
       "      <td>6.000000e+04</td>\n",
       "    </tr>\n",
       "    <tr>\n",
       "      <th>127</th>\n",
       "      <td>ISS EESTI As</td>\n",
       "      <td>6.000000e+04</td>\n",
       "    </tr>\n",
       "    <tr>\n",
       "      <th>128</th>\n",
       "      <td>Meridian AARPI (Association d'Avocats à Respon...</td>\n",
       "      <td>6.000000e+04</td>\n",
       "    </tr>\n",
       "    <tr>\n",
       "      <th>129</th>\n",
       "      <td>Euro Modules SA</td>\n",
       "      <td>6.000000e+04</td>\n",
       "    </tr>\n",
       "    <tr>\n",
       "      <th>130</th>\n",
       "      <td>Frans Konverentsiteenused OU</td>\n",
       "      <td>6.000000e+04</td>\n",
       "    </tr>\n",
       "    <tr>\n",
       "      <th>131</th>\n",
       "      <td>The Conseil Central de l’Economie (Brussels)</td>\n",
       "      <td>6.000000e+04</td>\n",
       "    </tr>\n",
       "    <tr>\n",
       "      <th>132</th>\n",
       "      <td>Espresso machines for TLL HQ</td>\n",
       "      <td>6.000000e+04</td>\n",
       "    </tr>\n",
       "    <tr>\n",
       "      <th>133</th>\n",
       "      <td>AS STANDARD</td>\n",
       "      <td>5.999800e+04</td>\n",
       "    </tr>\n",
       "    <tr>\n",
       "      <th>134</th>\n",
       "      <td>EY&amp;ASSOCIES</td>\n",
       "      <td>5.918000e+04</td>\n",
       "    </tr>\n",
       "    <tr>\n",
       "      <th>135</th>\n",
       "      <td>EUROPARK ESTONIA OU</td>\n",
       "      <td>5.851848e+04</td>\n",
       "    </tr>\n",
       "    <tr>\n",
       "      <th>136</th>\n",
       "      <td>Sovec enterprises</td>\n",
       "      <td>5.739603e+04</td>\n",
       "    </tr>\n",
       "    <tr>\n",
       "      <th>137</th>\n",
       "      <td>INTERSTUHL BUROMOBEL GMBH &amp; CO KG</td>\n",
       "      <td>5.727388e+04</td>\n",
       "    </tr>\n",
       "    <tr>\n",
       "      <th>138</th>\n",
       "      <td>Orange Business Services</td>\n",
       "      <td>5.710416e+04</td>\n",
       "    </tr>\n",
       "    <tr>\n",
       "      <th>139</th>\n",
       "      <td>BT LIMITED BELGIAN BRANCH</td>\n",
       "      <td>5.607871e+04</td>\n",
       "    </tr>\n",
       "    <tr>\n",
       "      <th>140</th>\n",
       "      <td>Qualiconsult Securite SAS</td>\n",
       "      <td>5.390000e+04</td>\n",
       "    </tr>\n",
       "    <tr>\n",
       "      <th>141</th>\n",
       "      <td>CANCOM JV</td>\n",
       "      <td>5.247840e+04</td>\n",
       "    </tr>\n",
       "    <tr>\n",
       "      <th>142</th>\n",
       "      <td>AS INFOTARK</td>\n",
       "      <td>5.173548e+04</td>\n",
       "    </tr>\n",
       "    <tr>\n",
       "      <th>143</th>\n",
       "      <td>LYRECO FRANCE SAS</td>\n",
       "      <td>4.952323e+04</td>\n",
       "    </tr>\n",
       "    <tr>\n",
       "      <th>144</th>\n",
       "      <td>CANON FRANCE SAS, CANON FINLAND OY</td>\n",
       "      <td>4.902091e+04</td>\n",
       "    </tr>\n",
       "    <tr>\n",
       "      <th>145</th>\n",
       "      <td>PWC-Everis</td>\n",
       "      <td>4.151281e+04</td>\n",
       "    </tr>\n",
       "    <tr>\n",
       "      <th>146</th>\n",
       "      <td>Consortium EIPA - Capita Business Services</td>\n",
       "      <td>4.140000e+04</td>\n",
       "    </tr>\n",
       "    <tr>\n",
       "      <th>147</th>\n",
       "      <td>PAPAPANAGIOTOU ABEEA DROMEAS ANONYMOS ETAIRIA</td>\n",
       "      <td>3.833874e+04</td>\n",
       "    </tr>\n",
       "    <tr>\n",
       "      <th>148</th>\n",
       "      <td>COMLIN</td>\n",
       "      <td>3.767280e+04</td>\n",
       "    </tr>\n",
       "    <tr>\n",
       "      <th>149</th>\n",
       "      <td>Draber-Neff Assurances</td>\n",
       "      <td>3.719154e+04</td>\n",
       "    </tr>\n",
       "    <tr>\n",
       "      <th>150</th>\n",
       "      <td>OMS Synergie Est SAS</td>\n",
       "      <td>3.507924e+04</td>\n",
       "    </tr>\n",
       "    <tr>\n",
       "      <th>151</th>\n",
       "      <td>Oracle</td>\n",
       "      <td>3.424066e+04</td>\n",
       "    </tr>\n",
       "    <tr>\n",
       "      <th>152</th>\n",
       "      <td>Linkedin Ireland Unlimited Company</td>\n",
       "      <td>3.177000e+04</td>\n",
       "    </tr>\n",
       "    <tr>\n",
       "      <th>153</th>\n",
       "      <td>Hi-Tech Detection Systems SAS</td>\n",
       "      <td>3.161500e+04</td>\n",
       "    </tr>\n",
       "    <tr>\n",
       "      <th>154</th>\n",
       "      <td>Cleaning services for eu-LISA TLL</td>\n",
       "      <td>3.000000e+04</td>\n",
       "    </tr>\n",
       "    <tr>\n",
       "      <th>155</th>\n",
       "      <td>One Point Academy</td>\n",
       "      <td>2.996500e+04</td>\n",
       "    </tr>\n",
       "    <tr>\n",
       "      <th>156</th>\n",
       "      <td>Comparex Nederland</td>\n",
       "      <td>2.978320e+04</td>\n",
       "    </tr>\n",
       "    <tr>\n",
       "      <th>157</th>\n",
       "      <td>Astlanda Hotelli AS</td>\n",
       "      <td>2.934759e+04</td>\n",
       "    </tr>\n",
       "    <tr>\n",
       "      <th>158</th>\n",
       "      <td>Baker Tilly Belgium</td>\n",
       "      <td>2.910000e+04</td>\n",
       "    </tr>\n",
       "    <tr>\n",
       "      <th>159</th>\n",
       "      <td>KPMG AG</td>\n",
       "      <td>2.617800e+04</td>\n",
       "    </tr>\n",
       "    <tr>\n",
       "      <th>160</th>\n",
       "      <td>COMLIN Association</td>\n",
       "      <td>2.440382e+04</td>\n",
       "    </tr>\n",
       "    <tr>\n",
       "      <th>161</th>\n",
       "      <td>Insight Technology Solutions Belgium Inc.</td>\n",
       "      <td>2.389502e+04</td>\n",
       "    </tr>\n",
       "    <tr>\n",
       "      <th>162</th>\n",
       "      <td>Axima Concept</td>\n",
       "      <td>2.247500e+04</td>\n",
       "    </tr>\n",
       "    <tr>\n",
       "      <th>163</th>\n",
       "      <td>Consortium CANON</td>\n",
       "      <td>2.240747e+04</td>\n",
       "    </tr>\n",
       "    <tr>\n",
       "      <th>164</th>\n",
       "      <td>PricewaterhouseC oopers</td>\n",
       "      <td>2.075000e+04</td>\n",
       "    </tr>\n",
       "    <tr>\n",
       "      <th>165</th>\n",
       "      <td>Dromeas</td>\n",
       "      <td>2.062796e+04</td>\n",
       "    </tr>\n",
       "    <tr>\n",
       "      <th>166</th>\n",
       "      <td>Cleaning Services</td>\n",
       "      <td>2.000000e+04</td>\n",
       "    </tr>\n",
       "    <tr>\n",
       "      <th>167</th>\n",
       "      <td>Electric Windows Blinds Supply to eu-LISA's ne...</td>\n",
       "      <td>1.920000e+04</td>\n",
       "    </tr>\n",
       "    <tr>\n",
       "      <th>168</th>\n",
       "      <td>T-Systems International</td>\n",
       "      <td>1.880934e+04</td>\n",
       "    </tr>\n",
       "    <tr>\n",
       "      <th>169</th>\n",
       "      <td>GETSYS LUXEMBOURG ASSOCIATION MOMEN</td>\n",
       "      <td>1.843560e+04</td>\n",
       "    </tr>\n",
       "    <tr>\n",
       "      <th>170</th>\n",
       "      <td>CANCOM ON LINE GMBH</td>\n",
       "      <td>1.824963e+04</td>\n",
       "    </tr>\n",
       "    <tr>\n",
       "      <th>171</th>\n",
       "      <td>Demos SA</td>\n",
       "      <td>1.773300e+04</td>\n",
       "    </tr>\n",
       "    <tr>\n",
       "      <th>172</th>\n",
       "      <td>CANCOM ON LINE</td>\n",
       "      <td>1.508904e+04</td>\n",
       "    </tr>\n",
       "    <tr>\n",
       "      <th>173</th>\n",
       "      <td>Systemat Luxembourg PSF sa</td>\n",
       "      <td>1.472058e+04</td>\n",
       "    </tr>\n",
       "    <tr>\n",
       "      <th>174</th>\n",
       "      <td>KeyJob</td>\n",
       "      <td>9.764400e+03</td>\n",
       "    </tr>\n",
       "    <tr>\n",
       "      <th>175</th>\n",
       "      <td>EFE Group</td>\n",
       "      <td>9.720280e+03</td>\n",
       "    </tr>\n",
       "    <tr>\n",
       "      <th>176</th>\n",
       "      <td>Infotark OU</td>\n",
       "      <td>7.130100e+03</td>\n",
       "    </tr>\n",
       "    <tr>\n",
       "      <th>177</th>\n",
       "      <td>Abilways</td>\n",
       "      <td>5.070000e+03</td>\n",
       "    </tr>\n",
       "    <tr>\n",
       "      <th>178</th>\n",
       "      <td>Lyreco France</td>\n",
       "      <td>4.128000e+03</td>\n",
       "    </tr>\n",
       "    <tr>\n",
       "      <th>179</th>\n",
       "      <td>European Institute of Public Administration</td>\n",
       "      <td>1.800000e+03</td>\n",
       "    </tr>\n",
       "    <tr>\n",
       "      <th>180</th>\n",
       "      <td>SAP Belgium SA</td>\n",
       "      <td>0.000000e+00</td>\n",
       "    </tr>\n",
       "  </tbody>\n",
       "</table>\n",
       "</div>"
      ],
      "text/plain": [
       "                                            Contractor         Value\n",
       "0     ACTO Consortium (Accenture SA, Tieto Estonia AS)  4.293555e+09\n",
       "1    Bridge3 Consortium (Accenture NV/SA, HP Belgiu...  3.283733e+09\n",
       "2             U2 Consortium (Unisys SA, UniSystems SA)  2.595820e+09\n",
       "3    Bull Consortium (Bull SAS, ATOS SAS, Ernst & Y...  2.566914e+09\n",
       "4    Alt+Enter Consortium (Accenture SA, Altran Tec...  2.566309e+09\n",
       "5    Tarkus Consortium (Everis Spain, Deloitte, AS ...  2.145150e+09\n",
       "6     S3B Consortium (Steria BE, Bull, Gemalto Cogent)  7.732634e+08\n",
       "7    ATOS consortium (ATOS, Accenture NV/SA, HP Bel...  9.731255e+07\n",
       "8    Bridge3 consortium (Accenture NV/SA, HP Belgiu...  5.162003e+07\n",
       "9                           SOPRA STERIA BENELUX SA/NV  5.040072e+07\n",
       "10   CONSORTIUM IBM BELGIUM BVBA, ATOS BELGIUM NV A...  4.420484e+07\n",
       "11                                   Everis Spain SLU   2.742924e+07\n",
       "12        Bridge3 consortium (Accenture, Atos, Safran)  1.588944e+07\n",
       "13                  ManpowerGroup Solutions Belgium SA  9.487116e+06\n",
       "14   Consortium Civitta, consisting of Civitta Eest...  5.915000e+06\n",
       "15                        T-SYSTEMS INTERNATIONAL GMBH  5.359793e+06\n",
       "16                                   EVERIS SPAIN SLU   4.682934e+06\n",
       "17                 Consortium Propager and News Travel  4.256380e+06\n",
       "18                                        NTT BELGIUM   4.053904e+06\n",
       "19                                        infeurope SA  3.572116e+06\n",
       "20                       COMLIN ASSOCIATION MOMENTANEE  3.149761e+06\n",
       "21                Civitta Civitta Innopolis Consortium  2.400798e+06\n",
       "22                                       Infeurope SA   2.313236e+06\n",
       "23                              COMPAREX Nederland BV   2.297730e+06\n",
       "24                                        Everesta Sro  2.000000e+06\n",
       "25                                   ADRIA CONGREX SRL  1.947469e+06\n",
       "26                               SECURITAS FRANCE SARL  1.705655e+06\n",
       "27                Consortium Civitta-Civitta Innopolis  1.526812e+06\n",
       "28                                           Mostra SA  1.500000e+06\n",
       "29   Consortium PWC EU Services EESV -Everis Spain SLU  1.438440e+06\n",
       "30                          Dimension Data Belgium SA   1.425036e+06\n",
       "31                        Dimension Data Belgium NV/SA  1.233501e+06\n",
       "32                           Deloitte Consulting CVBA   1.200000e+06\n",
       "33                               Unisys Belgium SA/NV   1.169530e+06\n",
       "34                          DIMENSION DATA BELGIUM SA   1.132199e+06\n",
       "35                                       Axima Concept  1.100000e+06\n",
       "36                               Gartner Belgium BVBA   1.030955e+06\n",
       "37   CONSORTIUM DELOITTE CONSULTING & ADVISORY CVBA...  9.988186e+05\n",
       "38                                       INFEUROPE SA   9.858372e+05\n",
       "39                                    Everesta s.r.o.   9.745318e+05\n",
       "40                              Consortium PWC Everis   9.479000e+05\n",
       "41                Consortium Propager and News Travel   9.200719e+05\n",
       "42                             Dimension Data Belgium   9.085626e+05\n",
       "43                   UNISYSTEMS INFORMATION TECHNOLOGY  8.895501e+05\n",
       "44                                     DIMENSION DATA   8.771984e+05\n",
       "45                              COMPAREX NEDERLAND BV   8.713586e+05\n",
       "46                                 ORACLE BELGIUM BVBA  7.236802e+05\n",
       "47                                   Manpower Belgium   7.220798e+05\n",
       "48                                     EVERESTA S.R.O   7.081574e+05\n",
       "49                                NOWY STYL - MAJENCIA  6.480464e+05\n",
       "50                                          Mostra SA   6.362286e+05\n",
       "51                                       AS G4S EESTI   6.355030e+05\n",
       "52                                   BECHTLE BRUSSELS   6.127183e+05\n",
       "53                            INSIGHT DIRECT USA, INC.  6.019743e+05\n",
       "54                                  Security services   5.500000e+05\n",
       "55                                        Standard AS   5.391614e+05\n",
       "56                                   ELIN GmbH & Co KG  5.000000e+05\n",
       "57                               Consortium Orange/HP   4.865652e+05\n",
       "58                                   T&T EXECUTIVE SA   4.800000e+05\n",
       "59                      COMLIN Association Momentanee   4.728312e+05\n",
       "60                                       Everesta sro   4.720990e+05\n",
       "61                                    Microsoft NV/SA   4.617609e+05\n",
       "62   ILLICON consortium (Unisys Belgium S.A., Intra...  4.570907e+05\n",
       "63                              Comparex Nederland BV   3.935256e+05\n",
       "64                                        Manpower SA   3.605250e+05\n",
       "65                             Adria Congrex Srl (1st)  3.214345e+05\n",
       "66                    Deloitte Consulting CVBA / SCRL   3.193110e+05\n",
       "67                                     AARPI MERIDIAN   3.060000e+05\n",
       "68                                  ELIN GmbH & Co KG   3.051710e+05\n",
       "69                                         BECHTLE AG   3.035661e+05\n",
       "70                                  COMLIN Association  3.019883e+05\n",
       "71                                Gartner Belgium BVBA  2.770000e+05\n",
       "72                                          Orange SA   2.510000e+05\n",
       "73                           ES ENERGIES STRASBOURG SA  2.500000e+05\n",
       "74                               Valtech Training SAS   2.277148e+05\n",
       "75                                       ISS PROPRETE   2.273600e+05\n",
       "76                           BT LIMITED BELGIAN BRANCH  2.147545e+05\n",
       "77                                   POMILIO BLUMM SRL  2.085888e+05\n",
       "78                                  Lyreco France SAS   2.059553e+05\n",
       "79                                        AS Infotark   2.039529e+05\n",
       "80                                      AS G4S EESTI*   2.023576e+05\n",
       "81                                Deloitte Consulting   2.023000e+05\n",
       "82                                    MANPOWER BELGIUM  2.016996e+05\n",
       "83                                     Consortium S3B   1.989711e+05\n",
       "84           Gartner Belgium (through Gartner Ireland)  1.976100e+05\n",
       "85                                        ASHURST LLP   1.950000e+05\n",
       "86                                     DHL Estonia AS   1.950000e+05\n",
       "87                                  ELIN Gmbh & Co KG   1.938984e+05\n",
       "88   Consortium Civitta Eesti AS, Civitta UAB and I...  1.825000e+05\n",
       "89                                   T&T Executive SA   1.700000e+05\n",
       "90                  American Express Corporate travel   1.647103e+05\n",
       "91                             Consortium Bull Atos-EY  1.484000e+05\n",
       "92                               PWC EU Services EESV   1.463000e+05\n",
       "93                                Stratiqo consortium   1.460079e+05\n",
       "94                              LEGAL ADVICE SERVICES   1.440000e+05\n",
       "95   Internet, Internet Protocol and Internet Proto...  1.440000e+05\n",
       "96            DALLMAYR DISTRIBUTION AUTOMATIQUE FRANCE  1.440000e+05\n",
       "97                                Europark Estonia OU   1.425000e+05\n",
       "98                              OMS SYNERGIE EST SAS*   1.350000e+05\n",
       "99                             Draber Neff Assurances   1.350000e+05\n",
       "100                                UNIC2EU Consortium   1.299000e+05\n",
       "101                                         ELIN GMBH   1.280544e+05\n",
       "102                                       Ashurst LLP   1.225000e+05\n",
       "103                       T-Systems International GmbH  1.193368e+05\n",
       "104                                          SPIE Est   1.190000e+05\n",
       "105                                Bechtle Brussels SA  1.159598e+05\n",
       "106                                         MICROSOFT   1.140000e+05\n",
       "107                        PRICEWATERHOUS E-COOPERS EU  1.072100e+05\n",
       "108                              Consortium Alt+ Enter  1.020492e+05\n",
       "109                             Consortium Alt+ Enter   1.020000e+05\n",
       "110                                            FLORES   1.007920e+05\n",
       "111                                      Accenture SA   9.785000e+04\n",
       "112  Consortium Tarkus (Everis Spain SLU, CGI Eesti...  9.628000e+04\n",
       "113                                   SPIE FACILITIES   9.064640e+04\n",
       "114                                 Consortium ICF GFK  8.892500e+04\n",
       "115                     DELOITTE CONSULTING & ADVISORY  8.847610e+04\n",
       "116                      Conseil Central de L`Economie  7.500000e+04\n",
       "117                                           Bechtle   7.315718e+04\n",
       "118                                 UNIC2EU Consortium  7.210000e+04\n",
       "119                                    Meridien AARPI   7.200000e+04\n",
       "120                                    Meridian AARPI   7.000000e+04\n",
       "121                              COMPAREX NEDERLAND BV  6.965835e+04\n",
       "122                                     Elisa EestiAS   6.000000e+04\n",
       "123                                  AS Eesti Telekom   6.000000e+04\n",
       "124                                    Telia Eesti AS   6.000000e+04\n",
       "125                                           AS ATEA   6.000000e+04\n",
       "126                              OMS SYNERGIE EST SAS   6.000000e+04\n",
       "127                                      ISS EESTI As   6.000000e+04\n",
       "128  Meridian AARPI (Association d'Avocats à Respon...  6.000000e+04\n",
       "129                                   Euro Modules SA   6.000000e+04\n",
       "130                       Frans Konverentsiteenused OU  6.000000e+04\n",
       "131      The Conseil Central de l’Economie (Brussels)   6.000000e+04\n",
       "132                      Espresso machines for TLL HQ   6.000000e+04\n",
       "133                                       AS STANDARD   5.999800e+04\n",
       "134                                       EY&ASSOCIES   5.918000e+04\n",
       "135                               EUROPARK ESTONIA OU   5.851848e+04\n",
       "136                                 Sovec enterprises   5.739603e+04\n",
       "137                  INTERSTUHL BUROMOBEL GMBH & CO KG  5.727388e+04\n",
       "138                          Orange Business Services   5.710416e+04\n",
       "139                         BT LIMITED BELGIAN BRANCH   5.607871e+04\n",
       "140                         Qualiconsult Securite SAS   5.390000e+04\n",
       "141                                         CANCOM JV   5.247840e+04\n",
       "142                                       AS INFOTARK   5.173548e+04\n",
       "143                                  LYRECO FRANCE SAS  4.952323e+04\n",
       "144                 CANON FRANCE SAS, CANON FINLAND OY  4.902091e+04\n",
       "145                                        PWC-Everis   4.151281e+04\n",
       "146         Consortium EIPA - Capita Business Services  4.140000e+04\n",
       "147      PAPAPANAGIOTOU ABEEA DROMEAS ANONYMOS ETAIRIA  3.833874e+04\n",
       "148                                            COMLIN   3.767280e+04\n",
       "149                            Draber-Neff Assurances   3.719154e+04\n",
       "150                              OMS Synergie Est SAS   3.507924e+04\n",
       "151                                            Oracle   3.424066e+04\n",
       "152                 Linkedin Ireland Unlimited Company  3.177000e+04\n",
       "153                     Hi-Tech Detection Systems SAS   3.161500e+04\n",
       "154                 Cleaning services for eu-LISA TLL   3.000000e+04\n",
       "155                                  One Point Academy  2.996500e+04\n",
       "156                                Comparex Nederland   2.978320e+04\n",
       "157                               Astlanda Hotelli AS   2.934759e+04\n",
       "158                                Baker Tilly Belgium  2.910000e+04\n",
       "159                                           KPMG AG   2.617800e+04\n",
       "160                                COMLIN Association   2.440382e+04\n",
       "161          Insight Technology Solutions Belgium Inc.  2.389502e+04\n",
       "162                                     Axima Concept   2.247500e+04\n",
       "163                                  Consortium CANON   2.240747e+04\n",
       "164                            PricewaterhouseC oopers  2.075000e+04\n",
       "165                                           Dromeas   2.062796e+04\n",
       "166                                 Cleaning Services   2.000000e+04\n",
       "167  Electric Windows Blinds Supply to eu-LISA's ne...  1.920000e+04\n",
       "168                           T-Systems International   1.880934e+04\n",
       "169                GETSYS LUXEMBOURG ASSOCIATION MOMEN  1.843560e+04\n",
       "170                                CANCOM ON LINE GMBH  1.824963e+04\n",
       "171                                          Demos SA   1.773300e+04\n",
       "172                                    CANCOM ON LINE   1.508904e+04\n",
       "173                        Systemat Luxembourg PSF sa   1.472058e+04\n",
       "174                                            KeyJob   9.764400e+03\n",
       "175                                         EFE Group   9.720280e+03\n",
       "176                                       Infotark OU   7.130100e+03\n",
       "177                                          Abilways   5.070000e+03\n",
       "178                                     Lyreco France   4.128000e+03\n",
       "179        European Institute of Public Administration  1.800000e+03\n",
       "180                                    SAP Belgium SA   0.000000e+00"
      ]
     },
     "execution_count": 10,
     "metadata": {},
     "output_type": "execute_result"
    }
   ],
   "source": [
    "pd.set_option('display.max_rows', None)\n",
    "contractor_value"
   ]
  },
  {
   "cell_type": "code",
   "execution_count": 23,
   "metadata": {},
   "outputs": [
    {
     "data": {
      "application/vnd.plotly.v1+json": {
       "config": {
        "plotlyServerURL": "https://plot.ly"
       },
       "data": [
        {
         "alignmentgroup": "True",
         "hoverlabel": {
          "namelength": 0
         },
         "hovertemplate": "Value=%{x}<br>Contractor=%{text}",
         "legendgroup": "",
         "marker": {
          "color": "darkblue"
         },
         "name": "",
         "offsetgroup": "",
         "orientation": "h",
         "showlegend": false,
         "text": [
          "ACTO Consortium (Accenture SA, Tieto Estonia AS)",
          "Bridge3 Consortium (Accenture NV/SA, HP Belgium and Morpho)",
          "U2 Consortium (Unisys SA, UniSystems SA)",
          "Bull Consortium (Bull SAS, ATOS SAS, Ernst & Young)",
          "Alt+Enter Consortium (Accenture SA, Altran Technologies SA)",
          "Tarkus Consortium (Everis Spain, Deloitte, AS CGI Eesti)",
          "S3B Consortium (Steria BE, Bull, Gemalto Cogent)",
          "ATOS consortium (ATOS, Accenture NV/SA, HP Belgium)",
          "Bridge3 consortium (Accenture NV/SA, HP Belgium and Morpho)",
          "SOPRA STERIA BENELUX SA/NV"
         ],
         "textposition": "auto",
         "texttemplate": "%{text}",
         "type": "bar",
         "x": [
          4293554695.66,
          3283733217.9300003,
          2595820401.2599998,
          2566913885,
          2566309335,
          2145150178,
          773263423.84,
          97312553.26,
          51620027.41,
          50400717.42
         ],
         "xaxis": "x",
         "y": [
          "ACTO Consortium (Accenture SA, Tieto Estonia AS)",
          "Bridge3 Consortium (Accenture NV/SA, HP Belgium and Morpho)",
          "U2 Consortium (Unisys SA, UniSystems SA)",
          "Bull Consortium (Bull SAS, ATOS SAS, Ernst & Young)",
          "Alt+Enter Consortium (Accenture SA, Altran Technologies SA)",
          "Tarkus Consortium (Everis Spain, Deloitte, AS CGI Eesti)",
          "S3B Consortium (Steria BE, Bull, Gemalto Cogent)",
          "ATOS consortium (ATOS, Accenture NV/SA, HP Belgium)",
          "Bridge3 consortium (Accenture NV/SA, HP Belgium and Morpho)",
          "SOPRA STERIA BENELUX SA/NV"
         ],
         "yaxis": "y"
        }
       ],
       "layout": {
        "barmode": "relative",
        "legend": {
         "tracegroupgap": 0
        },
        "margin": {
         "t": 60
        },
        "template": {
         "data": {
          "bar": [
           {
            "error_x": {
             "color": "#2a3f5f"
            },
            "error_y": {
             "color": "#2a3f5f"
            },
            "marker": {
             "line": {
              "color": "#E5ECF6",
              "width": 0.5
             }
            },
            "type": "bar"
           }
          ],
          "barpolar": [
           {
            "marker": {
             "line": {
              "color": "#E5ECF6",
              "width": 0.5
             }
            },
            "type": "barpolar"
           }
          ],
          "carpet": [
           {
            "aaxis": {
             "endlinecolor": "#2a3f5f",
             "gridcolor": "white",
             "linecolor": "white",
             "minorgridcolor": "white",
             "startlinecolor": "#2a3f5f"
            },
            "baxis": {
             "endlinecolor": "#2a3f5f",
             "gridcolor": "white",
             "linecolor": "white",
             "minorgridcolor": "white",
             "startlinecolor": "#2a3f5f"
            },
            "type": "carpet"
           }
          ],
          "choropleth": [
           {
            "colorbar": {
             "outlinewidth": 0,
             "ticks": ""
            },
            "type": "choropleth"
           }
          ],
          "contour": [
           {
            "colorbar": {
             "outlinewidth": 0,
             "ticks": ""
            },
            "colorscale": [
             [
              0,
              "#0d0887"
             ],
             [
              0.1111111111111111,
              "#46039f"
             ],
             [
              0.2222222222222222,
              "#7201a8"
             ],
             [
              0.3333333333333333,
              "#9c179e"
             ],
             [
              0.4444444444444444,
              "#bd3786"
             ],
             [
              0.5555555555555556,
              "#d8576b"
             ],
             [
              0.6666666666666666,
              "#ed7953"
             ],
             [
              0.7777777777777778,
              "#fb9f3a"
             ],
             [
              0.8888888888888888,
              "#fdca26"
             ],
             [
              1,
              "#f0f921"
             ]
            ],
            "type": "contour"
           }
          ],
          "contourcarpet": [
           {
            "colorbar": {
             "outlinewidth": 0,
             "ticks": ""
            },
            "type": "contourcarpet"
           }
          ],
          "heatmap": [
           {
            "colorbar": {
             "outlinewidth": 0,
             "ticks": ""
            },
            "colorscale": [
             [
              0,
              "#0d0887"
             ],
             [
              0.1111111111111111,
              "#46039f"
             ],
             [
              0.2222222222222222,
              "#7201a8"
             ],
             [
              0.3333333333333333,
              "#9c179e"
             ],
             [
              0.4444444444444444,
              "#bd3786"
             ],
             [
              0.5555555555555556,
              "#d8576b"
             ],
             [
              0.6666666666666666,
              "#ed7953"
             ],
             [
              0.7777777777777778,
              "#fb9f3a"
             ],
             [
              0.8888888888888888,
              "#fdca26"
             ],
             [
              1,
              "#f0f921"
             ]
            ],
            "type": "heatmap"
           }
          ],
          "heatmapgl": [
           {
            "colorbar": {
             "outlinewidth": 0,
             "ticks": ""
            },
            "colorscale": [
             [
              0,
              "#0d0887"
             ],
             [
              0.1111111111111111,
              "#46039f"
             ],
             [
              0.2222222222222222,
              "#7201a8"
             ],
             [
              0.3333333333333333,
              "#9c179e"
             ],
             [
              0.4444444444444444,
              "#bd3786"
             ],
             [
              0.5555555555555556,
              "#d8576b"
             ],
             [
              0.6666666666666666,
              "#ed7953"
             ],
             [
              0.7777777777777778,
              "#fb9f3a"
             ],
             [
              0.8888888888888888,
              "#fdca26"
             ],
             [
              1,
              "#f0f921"
             ]
            ],
            "type": "heatmapgl"
           }
          ],
          "histogram": [
           {
            "marker": {
             "colorbar": {
              "outlinewidth": 0,
              "ticks": ""
             }
            },
            "type": "histogram"
           }
          ],
          "histogram2d": [
           {
            "colorbar": {
             "outlinewidth": 0,
             "ticks": ""
            },
            "colorscale": [
             [
              0,
              "#0d0887"
             ],
             [
              0.1111111111111111,
              "#46039f"
             ],
             [
              0.2222222222222222,
              "#7201a8"
             ],
             [
              0.3333333333333333,
              "#9c179e"
             ],
             [
              0.4444444444444444,
              "#bd3786"
             ],
             [
              0.5555555555555556,
              "#d8576b"
             ],
             [
              0.6666666666666666,
              "#ed7953"
             ],
             [
              0.7777777777777778,
              "#fb9f3a"
             ],
             [
              0.8888888888888888,
              "#fdca26"
             ],
             [
              1,
              "#f0f921"
             ]
            ],
            "type": "histogram2d"
           }
          ],
          "histogram2dcontour": [
           {
            "colorbar": {
             "outlinewidth": 0,
             "ticks": ""
            },
            "colorscale": [
             [
              0,
              "#0d0887"
             ],
             [
              0.1111111111111111,
              "#46039f"
             ],
             [
              0.2222222222222222,
              "#7201a8"
             ],
             [
              0.3333333333333333,
              "#9c179e"
             ],
             [
              0.4444444444444444,
              "#bd3786"
             ],
             [
              0.5555555555555556,
              "#d8576b"
             ],
             [
              0.6666666666666666,
              "#ed7953"
             ],
             [
              0.7777777777777778,
              "#fb9f3a"
             ],
             [
              0.8888888888888888,
              "#fdca26"
             ],
             [
              1,
              "#f0f921"
             ]
            ],
            "type": "histogram2dcontour"
           }
          ],
          "mesh3d": [
           {
            "colorbar": {
             "outlinewidth": 0,
             "ticks": ""
            },
            "type": "mesh3d"
           }
          ],
          "parcoords": [
           {
            "line": {
             "colorbar": {
              "outlinewidth": 0,
              "ticks": ""
             }
            },
            "type": "parcoords"
           }
          ],
          "pie": [
           {
            "automargin": true,
            "type": "pie"
           }
          ],
          "scatter": [
           {
            "marker": {
             "colorbar": {
              "outlinewidth": 0,
              "ticks": ""
             }
            },
            "type": "scatter"
           }
          ],
          "scatter3d": [
           {
            "line": {
             "colorbar": {
              "outlinewidth": 0,
              "ticks": ""
             }
            },
            "marker": {
             "colorbar": {
              "outlinewidth": 0,
              "ticks": ""
             }
            },
            "type": "scatter3d"
           }
          ],
          "scattercarpet": [
           {
            "marker": {
             "colorbar": {
              "outlinewidth": 0,
              "ticks": ""
             }
            },
            "type": "scattercarpet"
           }
          ],
          "scattergeo": [
           {
            "marker": {
             "colorbar": {
              "outlinewidth": 0,
              "ticks": ""
             }
            },
            "type": "scattergeo"
           }
          ],
          "scattergl": [
           {
            "marker": {
             "colorbar": {
              "outlinewidth": 0,
              "ticks": ""
             }
            },
            "type": "scattergl"
           }
          ],
          "scattermapbox": [
           {
            "marker": {
             "colorbar": {
              "outlinewidth": 0,
              "ticks": ""
             }
            },
            "type": "scattermapbox"
           }
          ],
          "scatterpolar": [
           {
            "marker": {
             "colorbar": {
              "outlinewidth": 0,
              "ticks": ""
             }
            },
            "type": "scatterpolar"
           }
          ],
          "scatterpolargl": [
           {
            "marker": {
             "colorbar": {
              "outlinewidth": 0,
              "ticks": ""
             }
            },
            "type": "scatterpolargl"
           }
          ],
          "scatterternary": [
           {
            "marker": {
             "colorbar": {
              "outlinewidth": 0,
              "ticks": ""
             }
            },
            "type": "scatterternary"
           }
          ],
          "surface": [
           {
            "colorbar": {
             "outlinewidth": 0,
             "ticks": ""
            },
            "colorscale": [
             [
              0,
              "#0d0887"
             ],
             [
              0.1111111111111111,
              "#46039f"
             ],
             [
              0.2222222222222222,
              "#7201a8"
             ],
             [
              0.3333333333333333,
              "#9c179e"
             ],
             [
              0.4444444444444444,
              "#bd3786"
             ],
             [
              0.5555555555555556,
              "#d8576b"
             ],
             [
              0.6666666666666666,
              "#ed7953"
             ],
             [
              0.7777777777777778,
              "#fb9f3a"
             ],
             [
              0.8888888888888888,
              "#fdca26"
             ],
             [
              1,
              "#f0f921"
             ]
            ],
            "type": "surface"
           }
          ],
          "table": [
           {
            "cells": {
             "fill": {
              "color": "#EBF0F8"
             },
             "line": {
              "color": "white"
             }
            },
            "header": {
             "fill": {
              "color": "#C8D4E3"
             },
             "line": {
              "color": "white"
             }
            },
            "type": "table"
           }
          ]
         },
         "layout": {
          "annotationdefaults": {
           "arrowcolor": "#2a3f5f",
           "arrowhead": 0,
           "arrowwidth": 1
          },
          "coloraxis": {
           "colorbar": {
            "outlinewidth": 0,
            "ticks": ""
           }
          },
          "colorscale": {
           "diverging": [
            [
             0,
             "#8e0152"
            ],
            [
             0.1,
             "#c51b7d"
            ],
            [
             0.2,
             "#de77ae"
            ],
            [
             0.3,
             "#f1b6da"
            ],
            [
             0.4,
             "#fde0ef"
            ],
            [
             0.5,
             "#f7f7f7"
            ],
            [
             0.6,
             "#e6f5d0"
            ],
            [
             0.7,
             "#b8e186"
            ],
            [
             0.8,
             "#7fbc41"
            ],
            [
             0.9,
             "#4d9221"
            ],
            [
             1,
             "#276419"
            ]
           ],
           "sequential": [
            [
             0,
             "#0d0887"
            ],
            [
             0.1111111111111111,
             "#46039f"
            ],
            [
             0.2222222222222222,
             "#7201a8"
            ],
            [
             0.3333333333333333,
             "#9c179e"
            ],
            [
             0.4444444444444444,
             "#bd3786"
            ],
            [
             0.5555555555555556,
             "#d8576b"
            ],
            [
             0.6666666666666666,
             "#ed7953"
            ],
            [
             0.7777777777777778,
             "#fb9f3a"
            ],
            [
             0.8888888888888888,
             "#fdca26"
            ],
            [
             1,
             "#f0f921"
            ]
           ],
           "sequentialminus": [
            [
             0,
             "#0d0887"
            ],
            [
             0.1111111111111111,
             "#46039f"
            ],
            [
             0.2222222222222222,
             "#7201a8"
            ],
            [
             0.3333333333333333,
             "#9c179e"
            ],
            [
             0.4444444444444444,
             "#bd3786"
            ],
            [
             0.5555555555555556,
             "#d8576b"
            ],
            [
             0.6666666666666666,
             "#ed7953"
            ],
            [
             0.7777777777777778,
             "#fb9f3a"
            ],
            [
             0.8888888888888888,
             "#fdca26"
            ],
            [
             1,
             "#f0f921"
            ]
           ]
          },
          "colorway": [
           "#636efa",
           "#EF553B",
           "#00cc96",
           "#ab63fa",
           "#FFA15A",
           "#19d3f3",
           "#FF6692",
           "#B6E880",
           "#FF97FF",
           "#FECB52"
          ],
          "font": {
           "color": "#2a3f5f"
          },
          "geo": {
           "bgcolor": "white",
           "lakecolor": "white",
           "landcolor": "#E5ECF6",
           "showlakes": true,
           "showland": true,
           "subunitcolor": "white"
          },
          "hoverlabel": {
           "align": "left"
          },
          "hovermode": "closest",
          "mapbox": {
           "style": "light"
          },
          "paper_bgcolor": "white",
          "plot_bgcolor": "#E5ECF6",
          "polar": {
           "angularaxis": {
            "gridcolor": "white",
            "linecolor": "white",
            "ticks": ""
           },
           "bgcolor": "#E5ECF6",
           "radialaxis": {
            "gridcolor": "white",
            "linecolor": "white",
            "ticks": ""
           }
          },
          "scene": {
           "xaxis": {
            "backgroundcolor": "#E5ECF6",
            "gridcolor": "white",
            "gridwidth": 2,
            "linecolor": "white",
            "showbackground": true,
            "ticks": "",
            "zerolinecolor": "white"
           },
           "yaxis": {
            "backgroundcolor": "#E5ECF6",
            "gridcolor": "white",
            "gridwidth": 2,
            "linecolor": "white",
            "showbackground": true,
            "ticks": "",
            "zerolinecolor": "white"
           },
           "zaxis": {
            "backgroundcolor": "#E5ECF6",
            "gridcolor": "white",
            "gridwidth": 2,
            "linecolor": "white",
            "showbackground": true,
            "ticks": "",
            "zerolinecolor": "white"
           }
          },
          "shapedefaults": {
           "line": {
            "color": "#2a3f5f"
           }
          },
          "ternary": {
           "aaxis": {
            "gridcolor": "white",
            "linecolor": "white",
            "ticks": ""
           },
           "baxis": {
            "gridcolor": "white",
            "linecolor": "white",
            "ticks": ""
           },
           "bgcolor": "#E5ECF6",
           "caxis": {
            "gridcolor": "white",
            "linecolor": "white",
            "ticks": ""
           }
          },
          "title": {
           "x": 0.05
          },
          "xaxis": {
           "automargin": true,
           "gridcolor": "white",
           "linecolor": "white",
           "ticks": "",
           "title": {
            "standoff": 15
           },
           "zerolinecolor": "white",
           "zerolinewidth": 2
          },
          "yaxis": {
           "automargin": true,
           "gridcolor": "white",
           "linecolor": "white",
           "ticks": "",
           "title": {
            "standoff": 15
           },
           "zerolinecolor": "white",
           "zerolinewidth": 2
          }
         }
        },
        "title": {
         "text": "Top 10 Contractors by eu-LISA",
         "x": 0.5,
         "xanchor": "center",
         "y": 0.95,
         "yanchor": "top"
        },
        "uniformtext": {
         "minsize": 8,
         "mode": "hide"
        },
        "xaxis": {
         "anchor": "y",
         "domain": [
          0,
          1
         ],
         "title": {
          "text": "Value"
         }
        },
        "yaxis": {
         "anchor": "x",
         "categoryorder": "total ascending",
         "domain": [
          0,
          1
         ],
         "showticklabels": false,
         "title": {
          "text": "Contractor"
         },
         "type": "category"
        }
       }
      },
      "text/html": [
       "<div>\n",
       "        \n",
       "        \n",
       "            <div id=\"aeb0e785-4fc0-45e2-95e8-d2e7a2b51922\" class=\"plotly-graph-div\" style=\"height:525px; width:100%;\"></div>\n",
       "            <script type=\"text/javascript\">\n",
       "                require([\"plotly\"], function(Plotly) {\n",
       "                    window.PLOTLYENV=window.PLOTLYENV || {};\n",
       "                    \n",
       "                if (document.getElementById(\"aeb0e785-4fc0-45e2-95e8-d2e7a2b51922\")) {\n",
       "                    Plotly.newPlot(\n",
       "                        'aeb0e785-4fc0-45e2-95e8-d2e7a2b51922',\n",
       "                        [{\"alignmentgroup\": \"True\", \"hoverlabel\": {\"namelength\": 0}, \"hovertemplate\": \"Value=%{x}<br>Contractor=%{text}\", \"legendgroup\": \"\", \"marker\": {\"color\": \"darkblue\"}, \"name\": \"\", \"offsetgroup\": \"\", \"orientation\": \"h\", \"showlegend\": false, \"text\": [\"ACTO Consortium (Accenture SA, Tieto Estonia AS)\", \"Bridge3 Consortium (Accenture NV/SA, HP Belgium and Morpho)\", \"U2 Consortium (Unisys SA, UniSystems SA)\", \"Bull Consortium (Bull SAS, ATOS SAS, Ernst & Young)\", \"Alt+Enter Consortium (Accenture SA, Altran Technologies SA)\", \"Tarkus Consortium (Everis Spain, Deloitte, AS CGI Eesti)\", \"S3B Consortium (Steria BE, Bull, Gemalto Cogent)\", \"ATOS consortium (ATOS, Accenture NV/SA, HP Belgium)\", \"Bridge3 consortium (Accenture NV/SA, HP Belgium and Morpho)\", \"SOPRA STERIA BENELUX SA/NV\"], \"textposition\": \"auto\", \"texttemplate\": \"%{text}\", \"type\": \"bar\", \"x\": [4293554695.66, 3283733217.9300003, 2595820401.2599998, 2566913885.0, 2566309335.0, 2145150178.0, 773263423.84, 97312553.26, 51620027.41, 50400717.42], \"xaxis\": \"x\", \"y\": [\"ACTO Consortium (Accenture SA, Tieto Estonia AS)\", \"Bridge3 Consortium (Accenture NV/SA, HP Belgium and Morpho)\", \"U2 Consortium (Unisys SA, UniSystems SA)\", \"Bull Consortium (Bull SAS, ATOS SAS, Ernst & Young)\", \"Alt+Enter Consortium (Accenture SA, Altran Technologies SA)\", \"Tarkus Consortium (Everis Spain, Deloitte, AS CGI Eesti)\", \"S3B Consortium (Steria BE, Bull, Gemalto Cogent)\", \"ATOS consortium (ATOS, Accenture NV/SA, HP Belgium)\", \"Bridge3 consortium (Accenture NV/SA, HP Belgium and Morpho)\", \"SOPRA STERIA BENELUX SA/NV\"], \"yaxis\": \"y\"}],\n",
       "                        {\"barmode\": \"relative\", \"legend\": {\"tracegroupgap\": 0}, \"margin\": {\"t\": 60}, \"template\": {\"data\": {\"bar\": [{\"error_x\": {\"color\": \"#2a3f5f\"}, \"error_y\": {\"color\": \"#2a3f5f\"}, \"marker\": {\"line\": {\"color\": \"#E5ECF6\", \"width\": 0.5}}, \"type\": \"bar\"}], \"barpolar\": [{\"marker\": {\"line\": {\"color\": \"#E5ECF6\", \"width\": 0.5}}, \"type\": \"barpolar\"}], \"carpet\": [{\"aaxis\": {\"endlinecolor\": \"#2a3f5f\", \"gridcolor\": \"white\", \"linecolor\": \"white\", \"minorgridcolor\": \"white\", \"startlinecolor\": \"#2a3f5f\"}, \"baxis\": {\"endlinecolor\": \"#2a3f5f\", \"gridcolor\": \"white\", \"linecolor\": \"white\", \"minorgridcolor\": \"white\", \"startlinecolor\": \"#2a3f5f\"}, \"type\": \"carpet\"}], \"choropleth\": [{\"colorbar\": {\"outlinewidth\": 0, \"ticks\": \"\"}, \"type\": \"choropleth\"}], \"contour\": [{\"colorbar\": {\"outlinewidth\": 0, \"ticks\": \"\"}, \"colorscale\": [[0.0, \"#0d0887\"], [0.1111111111111111, \"#46039f\"], [0.2222222222222222, \"#7201a8\"], [0.3333333333333333, \"#9c179e\"], [0.4444444444444444, \"#bd3786\"], [0.5555555555555556, \"#d8576b\"], [0.6666666666666666, \"#ed7953\"], [0.7777777777777778, \"#fb9f3a\"], [0.8888888888888888, \"#fdca26\"], [1.0, \"#f0f921\"]], \"type\": \"contour\"}], \"contourcarpet\": [{\"colorbar\": {\"outlinewidth\": 0, \"ticks\": \"\"}, \"type\": \"contourcarpet\"}], \"heatmap\": [{\"colorbar\": {\"outlinewidth\": 0, \"ticks\": \"\"}, \"colorscale\": [[0.0, \"#0d0887\"], [0.1111111111111111, \"#46039f\"], [0.2222222222222222, \"#7201a8\"], [0.3333333333333333, \"#9c179e\"], [0.4444444444444444, \"#bd3786\"], [0.5555555555555556, \"#d8576b\"], [0.6666666666666666, \"#ed7953\"], [0.7777777777777778, \"#fb9f3a\"], [0.8888888888888888, \"#fdca26\"], [1.0, \"#f0f921\"]], \"type\": \"heatmap\"}], \"heatmapgl\": [{\"colorbar\": {\"outlinewidth\": 0, \"ticks\": \"\"}, \"colorscale\": [[0.0, \"#0d0887\"], [0.1111111111111111, \"#46039f\"], [0.2222222222222222, \"#7201a8\"], [0.3333333333333333, \"#9c179e\"], [0.4444444444444444, \"#bd3786\"], [0.5555555555555556, \"#d8576b\"], [0.6666666666666666, \"#ed7953\"], [0.7777777777777778, \"#fb9f3a\"], [0.8888888888888888, \"#fdca26\"], [1.0, \"#f0f921\"]], \"type\": \"heatmapgl\"}], \"histogram\": [{\"marker\": {\"colorbar\": {\"outlinewidth\": 0, \"ticks\": \"\"}}, \"type\": \"histogram\"}], \"histogram2d\": [{\"colorbar\": {\"outlinewidth\": 0, \"ticks\": \"\"}, \"colorscale\": [[0.0, \"#0d0887\"], [0.1111111111111111, \"#46039f\"], [0.2222222222222222, \"#7201a8\"], [0.3333333333333333, \"#9c179e\"], [0.4444444444444444, \"#bd3786\"], [0.5555555555555556, \"#d8576b\"], [0.6666666666666666, \"#ed7953\"], [0.7777777777777778, \"#fb9f3a\"], [0.8888888888888888, \"#fdca26\"], [1.0, \"#f0f921\"]], \"type\": \"histogram2d\"}], \"histogram2dcontour\": [{\"colorbar\": {\"outlinewidth\": 0, \"ticks\": \"\"}, \"colorscale\": [[0.0, \"#0d0887\"], [0.1111111111111111, \"#46039f\"], [0.2222222222222222, \"#7201a8\"], [0.3333333333333333, \"#9c179e\"], [0.4444444444444444, \"#bd3786\"], [0.5555555555555556, \"#d8576b\"], [0.6666666666666666, \"#ed7953\"], [0.7777777777777778, \"#fb9f3a\"], [0.8888888888888888, \"#fdca26\"], [1.0, \"#f0f921\"]], \"type\": \"histogram2dcontour\"}], \"mesh3d\": [{\"colorbar\": {\"outlinewidth\": 0, \"ticks\": \"\"}, \"type\": \"mesh3d\"}], \"parcoords\": [{\"line\": {\"colorbar\": {\"outlinewidth\": 0, \"ticks\": \"\"}}, \"type\": \"parcoords\"}], \"pie\": [{\"automargin\": true, \"type\": \"pie\"}], \"scatter\": [{\"marker\": {\"colorbar\": {\"outlinewidth\": 0, \"ticks\": \"\"}}, \"type\": \"scatter\"}], \"scatter3d\": [{\"line\": {\"colorbar\": {\"outlinewidth\": 0, \"ticks\": \"\"}}, \"marker\": {\"colorbar\": {\"outlinewidth\": 0, \"ticks\": \"\"}}, \"type\": \"scatter3d\"}], \"scattercarpet\": [{\"marker\": {\"colorbar\": {\"outlinewidth\": 0, \"ticks\": \"\"}}, \"type\": \"scattercarpet\"}], \"scattergeo\": [{\"marker\": {\"colorbar\": {\"outlinewidth\": 0, \"ticks\": \"\"}}, \"type\": \"scattergeo\"}], \"scattergl\": [{\"marker\": {\"colorbar\": {\"outlinewidth\": 0, \"ticks\": \"\"}}, \"type\": \"scattergl\"}], \"scattermapbox\": [{\"marker\": {\"colorbar\": {\"outlinewidth\": 0, \"ticks\": \"\"}}, \"type\": \"scattermapbox\"}], \"scatterpolar\": [{\"marker\": {\"colorbar\": {\"outlinewidth\": 0, \"ticks\": \"\"}}, \"type\": \"scatterpolar\"}], \"scatterpolargl\": [{\"marker\": {\"colorbar\": {\"outlinewidth\": 0, \"ticks\": \"\"}}, \"type\": \"scatterpolargl\"}], \"scatterternary\": [{\"marker\": {\"colorbar\": {\"outlinewidth\": 0, \"ticks\": \"\"}}, \"type\": \"scatterternary\"}], \"surface\": [{\"colorbar\": {\"outlinewidth\": 0, \"ticks\": \"\"}, \"colorscale\": [[0.0, \"#0d0887\"], [0.1111111111111111, \"#46039f\"], [0.2222222222222222, \"#7201a8\"], [0.3333333333333333, \"#9c179e\"], [0.4444444444444444, \"#bd3786\"], [0.5555555555555556, \"#d8576b\"], [0.6666666666666666, \"#ed7953\"], [0.7777777777777778, \"#fb9f3a\"], [0.8888888888888888, \"#fdca26\"], [1.0, \"#f0f921\"]], \"type\": \"surface\"}], \"table\": [{\"cells\": {\"fill\": {\"color\": \"#EBF0F8\"}, \"line\": {\"color\": \"white\"}}, \"header\": {\"fill\": {\"color\": \"#C8D4E3\"}, \"line\": {\"color\": \"white\"}}, \"type\": \"table\"}]}, \"layout\": {\"annotationdefaults\": {\"arrowcolor\": \"#2a3f5f\", \"arrowhead\": 0, \"arrowwidth\": 1}, \"coloraxis\": {\"colorbar\": {\"outlinewidth\": 0, \"ticks\": \"\"}}, \"colorscale\": {\"diverging\": [[0, \"#8e0152\"], [0.1, \"#c51b7d\"], [0.2, \"#de77ae\"], [0.3, \"#f1b6da\"], [0.4, \"#fde0ef\"], [0.5, \"#f7f7f7\"], [0.6, \"#e6f5d0\"], [0.7, \"#b8e186\"], [0.8, \"#7fbc41\"], [0.9, \"#4d9221\"], [1, \"#276419\"]], \"sequential\": [[0.0, \"#0d0887\"], [0.1111111111111111, \"#46039f\"], [0.2222222222222222, \"#7201a8\"], [0.3333333333333333, \"#9c179e\"], [0.4444444444444444, \"#bd3786\"], [0.5555555555555556, \"#d8576b\"], [0.6666666666666666, \"#ed7953\"], [0.7777777777777778, \"#fb9f3a\"], [0.8888888888888888, \"#fdca26\"], [1.0, \"#f0f921\"]], \"sequentialminus\": [[0.0, \"#0d0887\"], [0.1111111111111111, \"#46039f\"], [0.2222222222222222, \"#7201a8\"], [0.3333333333333333, \"#9c179e\"], [0.4444444444444444, \"#bd3786\"], [0.5555555555555556, \"#d8576b\"], [0.6666666666666666, \"#ed7953\"], [0.7777777777777778, \"#fb9f3a\"], [0.8888888888888888, \"#fdca26\"], [1.0, \"#f0f921\"]]}, \"colorway\": [\"#636efa\", \"#EF553B\", \"#00cc96\", \"#ab63fa\", \"#FFA15A\", \"#19d3f3\", \"#FF6692\", \"#B6E880\", \"#FF97FF\", \"#FECB52\"], \"font\": {\"color\": \"#2a3f5f\"}, \"geo\": {\"bgcolor\": \"white\", \"lakecolor\": \"white\", \"landcolor\": \"#E5ECF6\", \"showlakes\": true, \"showland\": true, \"subunitcolor\": \"white\"}, \"hoverlabel\": {\"align\": \"left\"}, \"hovermode\": \"closest\", \"mapbox\": {\"style\": \"light\"}, \"paper_bgcolor\": \"white\", \"plot_bgcolor\": \"#E5ECF6\", \"polar\": {\"angularaxis\": {\"gridcolor\": \"white\", \"linecolor\": \"white\", \"ticks\": \"\"}, \"bgcolor\": \"#E5ECF6\", \"radialaxis\": {\"gridcolor\": \"white\", \"linecolor\": \"white\", \"ticks\": \"\"}}, \"scene\": {\"xaxis\": {\"backgroundcolor\": \"#E5ECF6\", \"gridcolor\": \"white\", \"gridwidth\": 2, \"linecolor\": \"white\", \"showbackground\": true, \"ticks\": \"\", \"zerolinecolor\": \"white\"}, \"yaxis\": {\"backgroundcolor\": \"#E5ECF6\", \"gridcolor\": \"white\", \"gridwidth\": 2, \"linecolor\": \"white\", \"showbackground\": true, \"ticks\": \"\", \"zerolinecolor\": \"white\"}, \"zaxis\": {\"backgroundcolor\": \"#E5ECF6\", \"gridcolor\": \"white\", \"gridwidth\": 2, \"linecolor\": \"white\", \"showbackground\": true, \"ticks\": \"\", \"zerolinecolor\": \"white\"}}, \"shapedefaults\": {\"line\": {\"color\": \"#2a3f5f\"}}, \"ternary\": {\"aaxis\": {\"gridcolor\": \"white\", \"linecolor\": \"white\", \"ticks\": \"\"}, \"baxis\": {\"gridcolor\": \"white\", \"linecolor\": \"white\", \"ticks\": \"\"}, \"bgcolor\": \"#E5ECF6\", \"caxis\": {\"gridcolor\": \"white\", \"linecolor\": \"white\", \"ticks\": \"\"}}, \"title\": {\"x\": 0.05}, \"xaxis\": {\"automargin\": true, \"gridcolor\": \"white\", \"linecolor\": \"white\", \"ticks\": \"\", \"title\": {\"standoff\": 15}, \"zerolinecolor\": \"white\", \"zerolinewidth\": 2}, \"yaxis\": {\"automargin\": true, \"gridcolor\": \"white\", \"linecolor\": \"white\", \"ticks\": \"\", \"title\": {\"standoff\": 15}, \"zerolinecolor\": \"white\", \"zerolinewidth\": 2}}}, \"title\": {\"text\": \"Top 10 Contractors by eu-LISA\", \"x\": 0.5, \"xanchor\": \"center\", \"y\": 0.95, \"yanchor\": \"top\"}, \"uniformtext\": {\"minsize\": 8, \"mode\": \"hide\"}, \"xaxis\": {\"anchor\": \"y\", \"domain\": [0.0, 1.0], \"title\": {\"text\": \"Value\"}}, \"yaxis\": {\"anchor\": \"x\", \"categoryorder\": \"total ascending\", \"domain\": [0.0, 1.0], \"showticklabels\": false, \"title\": {\"text\": \"Contractor\"}, \"type\": \"category\"}},\n",
       "                        {\"responsive\": true}\n",
       "                    ).then(function(){\n",
       "                            \n",
       "var gd = document.getElementById('aeb0e785-4fc0-45e2-95e8-d2e7a2b51922');\n",
       "var x = new MutationObserver(function (mutations, observer) {{\n",
       "        var display = window.getComputedStyle(gd).display;\n",
       "        if (!display || display === 'none') {{\n",
       "            console.log([gd, 'removed!']);\n",
       "            Plotly.purge(gd);\n",
       "            observer.disconnect();\n",
       "        }}\n",
       "}});\n",
       "\n",
       "// Listen for the removal of the full notebook cells\n",
       "var notebookContainer = gd.closest('#notebook-container');\n",
       "if (notebookContainer) {{\n",
       "    x.observe(notebookContainer, {childList: true});\n",
       "}}\n",
       "\n",
       "// Listen for the clearing of the current output cell\n",
       "var outputEl = gd.closest('.output');\n",
       "if (outputEl) {{\n",
       "    x.observe(outputEl, {childList: true});\n",
       "}}\n",
       "\n",
       "                        })\n",
       "                };\n",
       "                });\n",
       "            </script>\n",
       "        </div>"
      ]
     },
     "metadata": {},
     "output_type": "display_data"
    }
   ],
   "source": [
    "fig = px.bar(contractor_value.loc[0:9,:], x='Value', y='Contractor', orientation='h', text = 'Contractor')\n",
    "fig.layout.yaxis.type = 'category'\n",
    "fig.update_layout(yaxis_categoryorder = 'total ascending')\n",
    "fig.update_layout(yaxis=dict(showticklabels=False))\n",
    "fig.update_traces(texttemplate='%{text}', textposition='auto', marker_color='darkblue')\n",
    "fig.update_layout(uniformtext_minsize=8, uniformtext_mode='hide',   title={\n",
    "        'text': \"Top 10 Contractors by eu-LISA\",\n",
    "        'y':0.95,\n",
    "        'x':0.5,\n",
    "        'xanchor': 'center',\n",
    "        'yanchor': 'top'})\n",
    "fig.show()"
   ]
  },
  {
   "cell_type": "markdown",
   "metadata": {},
   "source": [
    "#### 3.2. How much eu-LISA spend among years?"
   ]
  },
  {
   "cell_type": "code",
   "execution_count": 30,
   "metadata": {},
   "outputs": [],
   "source": [
    "year_value = df[['Value', 'Year']].groupby(by=\"Year\").sum()\n",
    "year_value.reset_index(level=0, inplace=True)"
   ]
  },
  {
   "cell_type": "code",
   "execution_count": 101,
   "metadata": {},
   "outputs": [
    {
     "data": {
      "text/html": [
       "<div>\n",
       "<style scoped>\n",
       "    .dataframe tbody tr th:only-of-type {\n",
       "        vertical-align: middle;\n",
       "    }\n",
       "\n",
       "    .dataframe tbody tr th {\n",
       "        vertical-align: top;\n",
       "    }\n",
       "\n",
       "    .dataframe thead th {\n",
       "        text-align: right;\n",
       "    }\n",
       "</style>\n",
       "<table border=\"1\" class=\"dataframe\">\n",
       "  <thead>\n",
       "    <tr style=\"text-align: right;\">\n",
       "      <th></th>\n",
       "      <th>Year</th>\n",
       "      <th>Value</th>\n",
       "    </tr>\n",
       "  </thead>\n",
       "  <tbody>\n",
       "    <tr>\n",
       "      <th>0</th>\n",
       "      <td>2013</td>\n",
       "      <td>5.290526e+06</td>\n",
       "    </tr>\n",
       "    <tr>\n",
       "      <th>1</th>\n",
       "      <td>2014</td>\n",
       "      <td>3.234790e+09</td>\n",
       "    </tr>\n",
       "    <tr>\n",
       "      <th>2</th>\n",
       "      <td>2015</td>\n",
       "      <td>1.500245e+10</td>\n",
       "    </tr>\n",
       "    <tr>\n",
       "      <th>3</th>\n",
       "      <td>2016</td>\n",
       "      <td>4.915556e+07</td>\n",
       "    </tr>\n",
       "    <tr>\n",
       "      <th>4</th>\n",
       "      <td>2017</td>\n",
       "      <td>7.774081e+07</td>\n",
       "    </tr>\n",
       "    <tr>\n",
       "      <th>5</th>\n",
       "      <td>2018</td>\n",
       "      <td>1.168473e+08</td>\n",
       "    </tr>\n",
       "    <tr>\n",
       "      <th>6</th>\n",
       "      <td>2019</td>\n",
       "      <td>1.436495e+08</td>\n",
       "    </tr>\n",
       "  </tbody>\n",
       "</table>\n",
       "</div>"
      ],
      "text/plain": [
       "   Year         Value\n",
       "0  2013  5.290526e+06\n",
       "1  2014  3.234790e+09\n",
       "2  2015  1.500245e+10\n",
       "3  2016  4.915556e+07\n",
       "4  2017  7.774081e+07\n",
       "5  2018  1.168473e+08\n",
       "6  2019  1.436495e+08"
      ]
     },
     "execution_count": 101,
     "metadata": {},
     "output_type": "execute_result"
    }
   ],
   "source": [
    "year_value"
   ]
  },
  {
   "cell_type": "code",
   "execution_count": 39,
   "metadata": {},
   "outputs": [
    {
     "data": {
      "text/plain": [
       "18629928657.810005"
      ]
     },
     "execution_count": 39,
     "metadata": {},
     "output_type": "execute_result"
    }
   ],
   "source": [
    "sum(year_value.Value)"
   ]
  },
  {
   "cell_type": "code",
   "execution_count": 97,
   "metadata": {},
   "outputs": [
    {
     "data": {
      "application/vnd.plotly.v1+json": {
       "config": {
        "plotlyServerURL": "https://plot.ly"
       },
       "data": [
        {
         "hoverlabel": {
          "namelength": 0
         },
         "hovertemplate": "Year=%{x}<br>Value=%{text}",
         "legendgroup": "",
         "marker": {
          "color": "darkblue",
          "size": 8,
          "symbol": "circle"
         },
         "mode": "lines+markers+text",
         "name": "",
         "showlegend": false,
         "text": [
          5290526.160000001,
          3234790037.6699996,
          15002454847.12,
          49155563.239999995,
          77740806.13,
          116847338.90999998,
          143649538.58
         ],
         "textposition": "top left",
         "texttemplate": "%{text:.3s}",
         "type": "scatter",
         "x": [
          2013,
          2014,
          2015,
          2016,
          2017,
          2018,
          2019
         ],
         "xaxis": "x",
         "y": [
          5290526.160000001,
          3234790037.6699996,
          15002454847.12,
          49155563.239999995,
          77740806.13,
          116847338.90999998,
          143649538.58
         ],
         "yaxis": "y"
        }
       ],
       "layout": {
        "legend": {
         "tracegroupgap": 0
        },
        "margin": {
         "t": 60
        },
        "template": {
         "data": {
          "bar": [
           {
            "error_x": {
             "color": "#2a3f5f"
            },
            "error_y": {
             "color": "#2a3f5f"
            },
            "marker": {
             "line": {
              "color": "#E5ECF6",
              "width": 0.5
             }
            },
            "type": "bar"
           }
          ],
          "barpolar": [
           {
            "marker": {
             "line": {
              "color": "#E5ECF6",
              "width": 0.5
             }
            },
            "type": "barpolar"
           }
          ],
          "carpet": [
           {
            "aaxis": {
             "endlinecolor": "#2a3f5f",
             "gridcolor": "white",
             "linecolor": "white",
             "minorgridcolor": "white",
             "startlinecolor": "#2a3f5f"
            },
            "baxis": {
             "endlinecolor": "#2a3f5f",
             "gridcolor": "white",
             "linecolor": "white",
             "minorgridcolor": "white",
             "startlinecolor": "#2a3f5f"
            },
            "type": "carpet"
           }
          ],
          "choropleth": [
           {
            "colorbar": {
             "outlinewidth": 0,
             "ticks": ""
            },
            "type": "choropleth"
           }
          ],
          "contour": [
           {
            "colorbar": {
             "outlinewidth": 0,
             "ticks": ""
            },
            "colorscale": [
             [
              0,
              "#0d0887"
             ],
             [
              0.1111111111111111,
              "#46039f"
             ],
             [
              0.2222222222222222,
              "#7201a8"
             ],
             [
              0.3333333333333333,
              "#9c179e"
             ],
             [
              0.4444444444444444,
              "#bd3786"
             ],
             [
              0.5555555555555556,
              "#d8576b"
             ],
             [
              0.6666666666666666,
              "#ed7953"
             ],
             [
              0.7777777777777778,
              "#fb9f3a"
             ],
             [
              0.8888888888888888,
              "#fdca26"
             ],
             [
              1,
              "#f0f921"
             ]
            ],
            "type": "contour"
           }
          ],
          "contourcarpet": [
           {
            "colorbar": {
             "outlinewidth": 0,
             "ticks": ""
            },
            "type": "contourcarpet"
           }
          ],
          "heatmap": [
           {
            "colorbar": {
             "outlinewidth": 0,
             "ticks": ""
            },
            "colorscale": [
             [
              0,
              "#0d0887"
             ],
             [
              0.1111111111111111,
              "#46039f"
             ],
             [
              0.2222222222222222,
              "#7201a8"
             ],
             [
              0.3333333333333333,
              "#9c179e"
             ],
             [
              0.4444444444444444,
              "#bd3786"
             ],
             [
              0.5555555555555556,
              "#d8576b"
             ],
             [
              0.6666666666666666,
              "#ed7953"
             ],
             [
              0.7777777777777778,
              "#fb9f3a"
             ],
             [
              0.8888888888888888,
              "#fdca26"
             ],
             [
              1,
              "#f0f921"
             ]
            ],
            "type": "heatmap"
           }
          ],
          "heatmapgl": [
           {
            "colorbar": {
             "outlinewidth": 0,
             "ticks": ""
            },
            "colorscale": [
             [
              0,
              "#0d0887"
             ],
             [
              0.1111111111111111,
              "#46039f"
             ],
             [
              0.2222222222222222,
              "#7201a8"
             ],
             [
              0.3333333333333333,
              "#9c179e"
             ],
             [
              0.4444444444444444,
              "#bd3786"
             ],
             [
              0.5555555555555556,
              "#d8576b"
             ],
             [
              0.6666666666666666,
              "#ed7953"
             ],
             [
              0.7777777777777778,
              "#fb9f3a"
             ],
             [
              0.8888888888888888,
              "#fdca26"
             ],
             [
              1,
              "#f0f921"
             ]
            ],
            "type": "heatmapgl"
           }
          ],
          "histogram": [
           {
            "marker": {
             "colorbar": {
              "outlinewidth": 0,
              "ticks": ""
             }
            },
            "type": "histogram"
           }
          ],
          "histogram2d": [
           {
            "colorbar": {
             "outlinewidth": 0,
             "ticks": ""
            },
            "colorscale": [
             [
              0,
              "#0d0887"
             ],
             [
              0.1111111111111111,
              "#46039f"
             ],
             [
              0.2222222222222222,
              "#7201a8"
             ],
             [
              0.3333333333333333,
              "#9c179e"
             ],
             [
              0.4444444444444444,
              "#bd3786"
             ],
             [
              0.5555555555555556,
              "#d8576b"
             ],
             [
              0.6666666666666666,
              "#ed7953"
             ],
             [
              0.7777777777777778,
              "#fb9f3a"
             ],
             [
              0.8888888888888888,
              "#fdca26"
             ],
             [
              1,
              "#f0f921"
             ]
            ],
            "type": "histogram2d"
           }
          ],
          "histogram2dcontour": [
           {
            "colorbar": {
             "outlinewidth": 0,
             "ticks": ""
            },
            "colorscale": [
             [
              0,
              "#0d0887"
             ],
             [
              0.1111111111111111,
              "#46039f"
             ],
             [
              0.2222222222222222,
              "#7201a8"
             ],
             [
              0.3333333333333333,
              "#9c179e"
             ],
             [
              0.4444444444444444,
              "#bd3786"
             ],
             [
              0.5555555555555556,
              "#d8576b"
             ],
             [
              0.6666666666666666,
              "#ed7953"
             ],
             [
              0.7777777777777778,
              "#fb9f3a"
             ],
             [
              0.8888888888888888,
              "#fdca26"
             ],
             [
              1,
              "#f0f921"
             ]
            ],
            "type": "histogram2dcontour"
           }
          ],
          "mesh3d": [
           {
            "colorbar": {
             "outlinewidth": 0,
             "ticks": ""
            },
            "type": "mesh3d"
           }
          ],
          "parcoords": [
           {
            "line": {
             "colorbar": {
              "outlinewidth": 0,
              "ticks": ""
             }
            },
            "type": "parcoords"
           }
          ],
          "pie": [
           {
            "automargin": true,
            "type": "pie"
           }
          ],
          "scatter": [
           {
            "marker": {
             "colorbar": {
              "outlinewidth": 0,
              "ticks": ""
             }
            },
            "type": "scatter"
           }
          ],
          "scatter3d": [
           {
            "line": {
             "colorbar": {
              "outlinewidth": 0,
              "ticks": ""
             }
            },
            "marker": {
             "colorbar": {
              "outlinewidth": 0,
              "ticks": ""
             }
            },
            "type": "scatter3d"
           }
          ],
          "scattercarpet": [
           {
            "marker": {
             "colorbar": {
              "outlinewidth": 0,
              "ticks": ""
             }
            },
            "type": "scattercarpet"
           }
          ],
          "scattergeo": [
           {
            "marker": {
             "colorbar": {
              "outlinewidth": 0,
              "ticks": ""
             }
            },
            "type": "scattergeo"
           }
          ],
          "scattergl": [
           {
            "marker": {
             "colorbar": {
              "outlinewidth": 0,
              "ticks": ""
             }
            },
            "type": "scattergl"
           }
          ],
          "scattermapbox": [
           {
            "marker": {
             "colorbar": {
              "outlinewidth": 0,
              "ticks": ""
             }
            },
            "type": "scattermapbox"
           }
          ],
          "scatterpolar": [
           {
            "marker": {
             "colorbar": {
              "outlinewidth": 0,
              "ticks": ""
             }
            },
            "type": "scatterpolar"
           }
          ],
          "scatterpolargl": [
           {
            "marker": {
             "colorbar": {
              "outlinewidth": 0,
              "ticks": ""
             }
            },
            "type": "scatterpolargl"
           }
          ],
          "scatterternary": [
           {
            "marker": {
             "colorbar": {
              "outlinewidth": 0,
              "ticks": ""
             }
            },
            "type": "scatterternary"
           }
          ],
          "surface": [
           {
            "colorbar": {
             "outlinewidth": 0,
             "ticks": ""
            },
            "colorscale": [
             [
              0,
              "#0d0887"
             ],
             [
              0.1111111111111111,
              "#46039f"
             ],
             [
              0.2222222222222222,
              "#7201a8"
             ],
             [
              0.3333333333333333,
              "#9c179e"
             ],
             [
              0.4444444444444444,
              "#bd3786"
             ],
             [
              0.5555555555555556,
              "#d8576b"
             ],
             [
              0.6666666666666666,
              "#ed7953"
             ],
             [
              0.7777777777777778,
              "#fb9f3a"
             ],
             [
              0.8888888888888888,
              "#fdca26"
             ],
             [
              1,
              "#f0f921"
             ]
            ],
            "type": "surface"
           }
          ],
          "table": [
           {
            "cells": {
             "fill": {
              "color": "#EBF0F8"
             },
             "line": {
              "color": "white"
             }
            },
            "header": {
             "fill": {
              "color": "#C8D4E3"
             },
             "line": {
              "color": "white"
             }
            },
            "type": "table"
           }
          ]
         },
         "layout": {
          "annotationdefaults": {
           "arrowcolor": "#2a3f5f",
           "arrowhead": 0,
           "arrowwidth": 1
          },
          "coloraxis": {
           "colorbar": {
            "outlinewidth": 0,
            "ticks": ""
           }
          },
          "colorscale": {
           "diverging": [
            [
             0,
             "#8e0152"
            ],
            [
             0.1,
             "#c51b7d"
            ],
            [
             0.2,
             "#de77ae"
            ],
            [
             0.3,
             "#f1b6da"
            ],
            [
             0.4,
             "#fde0ef"
            ],
            [
             0.5,
             "#f7f7f7"
            ],
            [
             0.6,
             "#e6f5d0"
            ],
            [
             0.7,
             "#b8e186"
            ],
            [
             0.8,
             "#7fbc41"
            ],
            [
             0.9,
             "#4d9221"
            ],
            [
             1,
             "#276419"
            ]
           ],
           "sequential": [
            [
             0,
             "#0d0887"
            ],
            [
             0.1111111111111111,
             "#46039f"
            ],
            [
             0.2222222222222222,
             "#7201a8"
            ],
            [
             0.3333333333333333,
             "#9c179e"
            ],
            [
             0.4444444444444444,
             "#bd3786"
            ],
            [
             0.5555555555555556,
             "#d8576b"
            ],
            [
             0.6666666666666666,
             "#ed7953"
            ],
            [
             0.7777777777777778,
             "#fb9f3a"
            ],
            [
             0.8888888888888888,
             "#fdca26"
            ],
            [
             1,
             "#f0f921"
            ]
           ],
           "sequentialminus": [
            [
             0,
             "#0d0887"
            ],
            [
             0.1111111111111111,
             "#46039f"
            ],
            [
             0.2222222222222222,
             "#7201a8"
            ],
            [
             0.3333333333333333,
             "#9c179e"
            ],
            [
             0.4444444444444444,
             "#bd3786"
            ],
            [
             0.5555555555555556,
             "#d8576b"
            ],
            [
             0.6666666666666666,
             "#ed7953"
            ],
            [
             0.7777777777777778,
             "#fb9f3a"
            ],
            [
             0.8888888888888888,
             "#fdca26"
            ],
            [
             1,
             "#f0f921"
            ]
           ]
          },
          "colorway": [
           "#636efa",
           "#EF553B",
           "#00cc96",
           "#ab63fa",
           "#FFA15A",
           "#19d3f3",
           "#FF6692",
           "#B6E880",
           "#FF97FF",
           "#FECB52"
          ],
          "font": {
           "color": "#2a3f5f"
          },
          "geo": {
           "bgcolor": "white",
           "lakecolor": "white",
           "landcolor": "#E5ECF6",
           "showlakes": true,
           "showland": true,
           "subunitcolor": "white"
          },
          "hoverlabel": {
           "align": "left"
          },
          "hovermode": "closest",
          "mapbox": {
           "style": "light"
          },
          "paper_bgcolor": "white",
          "plot_bgcolor": "#E5ECF6",
          "polar": {
           "angularaxis": {
            "gridcolor": "white",
            "linecolor": "white",
            "ticks": ""
           },
           "bgcolor": "#E5ECF6",
           "radialaxis": {
            "gridcolor": "white",
            "linecolor": "white",
            "ticks": ""
           }
          },
          "scene": {
           "xaxis": {
            "backgroundcolor": "#E5ECF6",
            "gridcolor": "white",
            "gridwidth": 2,
            "linecolor": "white",
            "showbackground": true,
            "ticks": "",
            "zerolinecolor": "white"
           },
           "yaxis": {
            "backgroundcolor": "#E5ECF6",
            "gridcolor": "white",
            "gridwidth": 2,
            "linecolor": "white",
            "showbackground": true,
            "ticks": "",
            "zerolinecolor": "white"
           },
           "zaxis": {
            "backgroundcolor": "#E5ECF6",
            "gridcolor": "white",
            "gridwidth": 2,
            "linecolor": "white",
            "showbackground": true,
            "ticks": "",
            "zerolinecolor": "white"
           }
          },
          "shapedefaults": {
           "line": {
            "color": "#2a3f5f"
           }
          },
          "ternary": {
           "aaxis": {
            "gridcolor": "white",
            "linecolor": "white",
            "ticks": ""
           },
           "baxis": {
            "gridcolor": "white",
            "linecolor": "white",
            "ticks": ""
           },
           "bgcolor": "#E5ECF6",
           "caxis": {
            "gridcolor": "white",
            "linecolor": "white",
            "ticks": ""
           }
          },
          "title": {
           "x": 0.05
          },
          "xaxis": {
           "automargin": true,
           "gridcolor": "white",
           "linecolor": "white",
           "ticks": "",
           "title": {
            "standoff": 15
           },
           "zerolinecolor": "white",
           "zerolinewidth": 2
          },
          "yaxis": {
           "automargin": true,
           "gridcolor": "white",
           "linecolor": "white",
           "ticks": "",
           "title": {
            "standoff": 15
           },
           "zerolinecolor": "white",
           "zerolinewidth": 2
          }
         }
        },
        "title": {
         "text": "Billions spend by eu-LISA (€)",
         "x": 0.5,
         "xanchor": "center",
         "y": 0.95,
         "yanchor": "top"
        },
        "uniformtext": {
         "minsize": 25,
         "mode": "hide"
        },
        "xaxis": {
         "anchor": "y",
         "domain": [
          0,
          1
         ],
         "title": {
          "text": "Year"
         }
        },
        "yaxis": {
         "anchor": "x",
         "domain": [
          0,
          1
         ],
         "title": {
          "text": "Value"
         }
        }
       }
      },
      "text/html": [
       "<div>\n",
       "        \n",
       "        \n",
       "            <div id=\"49aab71b-b144-4790-a2d3-94fe8abb6c45\" class=\"plotly-graph-div\" style=\"height:525px; width:100%;\"></div>\n",
       "            <script type=\"text/javascript\">\n",
       "                require([\"plotly\"], function(Plotly) {\n",
       "                    window.PLOTLYENV=window.PLOTLYENV || {};\n",
       "                    \n",
       "                if (document.getElementById(\"49aab71b-b144-4790-a2d3-94fe8abb6c45\")) {\n",
       "                    Plotly.newPlot(\n",
       "                        '49aab71b-b144-4790-a2d3-94fe8abb6c45',\n",
       "                        [{\"hoverlabel\": {\"namelength\": 0}, \"hovertemplate\": \"Year=%{x}<br>Value=%{text}\", \"legendgroup\": \"\", \"marker\": {\"color\": \"darkblue\", \"size\": 8, \"symbol\": \"circle\"}, \"mode\": \"lines+markers+text\", \"name\": \"\", \"showlegend\": false, \"text\": [5290526.160000001, 3234790037.6699996, 15002454847.12, 49155563.239999995, 77740806.13, 116847338.90999998, 143649538.58], \"textposition\": \"top left\", \"texttemplate\": \"%{text:.3s}\", \"type\": \"scatter\", \"x\": [2013, 2014, 2015, 2016, 2017, 2018, 2019], \"xaxis\": \"x\", \"y\": [5290526.160000001, 3234790037.6699996, 15002454847.12, 49155563.239999995, 77740806.13, 116847338.90999998, 143649538.58], \"yaxis\": \"y\"}],\n",
       "                        {\"legend\": {\"tracegroupgap\": 0}, \"margin\": {\"t\": 60}, \"template\": {\"data\": {\"bar\": [{\"error_x\": {\"color\": \"#2a3f5f\"}, \"error_y\": {\"color\": \"#2a3f5f\"}, \"marker\": {\"line\": {\"color\": \"#E5ECF6\", \"width\": 0.5}}, \"type\": \"bar\"}], \"barpolar\": [{\"marker\": {\"line\": {\"color\": \"#E5ECF6\", \"width\": 0.5}}, \"type\": \"barpolar\"}], \"carpet\": [{\"aaxis\": {\"endlinecolor\": \"#2a3f5f\", \"gridcolor\": \"white\", \"linecolor\": \"white\", \"minorgridcolor\": \"white\", \"startlinecolor\": \"#2a3f5f\"}, \"baxis\": {\"endlinecolor\": \"#2a3f5f\", \"gridcolor\": \"white\", \"linecolor\": \"white\", \"minorgridcolor\": \"white\", \"startlinecolor\": \"#2a3f5f\"}, \"type\": \"carpet\"}], \"choropleth\": [{\"colorbar\": {\"outlinewidth\": 0, \"ticks\": \"\"}, \"type\": \"choropleth\"}], \"contour\": [{\"colorbar\": {\"outlinewidth\": 0, \"ticks\": \"\"}, \"colorscale\": [[0.0, \"#0d0887\"], [0.1111111111111111, \"#46039f\"], [0.2222222222222222, \"#7201a8\"], [0.3333333333333333, \"#9c179e\"], [0.4444444444444444, \"#bd3786\"], [0.5555555555555556, \"#d8576b\"], [0.6666666666666666, \"#ed7953\"], [0.7777777777777778, \"#fb9f3a\"], [0.8888888888888888, \"#fdca26\"], [1.0, \"#f0f921\"]], \"type\": \"contour\"}], \"contourcarpet\": [{\"colorbar\": {\"outlinewidth\": 0, \"ticks\": \"\"}, \"type\": \"contourcarpet\"}], \"heatmap\": [{\"colorbar\": {\"outlinewidth\": 0, \"ticks\": \"\"}, \"colorscale\": [[0.0, \"#0d0887\"], [0.1111111111111111, \"#46039f\"], [0.2222222222222222, \"#7201a8\"], [0.3333333333333333, \"#9c179e\"], [0.4444444444444444, \"#bd3786\"], [0.5555555555555556, \"#d8576b\"], [0.6666666666666666, \"#ed7953\"], [0.7777777777777778, \"#fb9f3a\"], [0.8888888888888888, \"#fdca26\"], [1.0, \"#f0f921\"]], \"type\": \"heatmap\"}], \"heatmapgl\": [{\"colorbar\": {\"outlinewidth\": 0, \"ticks\": \"\"}, \"colorscale\": [[0.0, \"#0d0887\"], [0.1111111111111111, \"#46039f\"], [0.2222222222222222, \"#7201a8\"], [0.3333333333333333, \"#9c179e\"], [0.4444444444444444, \"#bd3786\"], [0.5555555555555556, \"#d8576b\"], [0.6666666666666666, \"#ed7953\"], [0.7777777777777778, \"#fb9f3a\"], [0.8888888888888888, \"#fdca26\"], [1.0, \"#f0f921\"]], \"type\": \"heatmapgl\"}], \"histogram\": [{\"marker\": {\"colorbar\": {\"outlinewidth\": 0, \"ticks\": \"\"}}, \"type\": \"histogram\"}], \"histogram2d\": [{\"colorbar\": {\"outlinewidth\": 0, \"ticks\": \"\"}, \"colorscale\": [[0.0, \"#0d0887\"], [0.1111111111111111, \"#46039f\"], [0.2222222222222222, \"#7201a8\"], [0.3333333333333333, \"#9c179e\"], [0.4444444444444444, \"#bd3786\"], [0.5555555555555556, \"#d8576b\"], [0.6666666666666666, \"#ed7953\"], [0.7777777777777778, \"#fb9f3a\"], [0.8888888888888888, \"#fdca26\"], [1.0, \"#f0f921\"]], \"type\": \"histogram2d\"}], \"histogram2dcontour\": [{\"colorbar\": {\"outlinewidth\": 0, \"ticks\": \"\"}, \"colorscale\": [[0.0, \"#0d0887\"], [0.1111111111111111, \"#46039f\"], [0.2222222222222222, \"#7201a8\"], [0.3333333333333333, \"#9c179e\"], [0.4444444444444444, \"#bd3786\"], [0.5555555555555556, \"#d8576b\"], [0.6666666666666666, \"#ed7953\"], [0.7777777777777778, \"#fb9f3a\"], [0.8888888888888888, \"#fdca26\"], [1.0, \"#f0f921\"]], \"type\": \"histogram2dcontour\"}], \"mesh3d\": [{\"colorbar\": {\"outlinewidth\": 0, \"ticks\": \"\"}, \"type\": \"mesh3d\"}], \"parcoords\": [{\"line\": {\"colorbar\": {\"outlinewidth\": 0, \"ticks\": \"\"}}, \"type\": \"parcoords\"}], \"pie\": [{\"automargin\": true, \"type\": \"pie\"}], \"scatter\": [{\"marker\": {\"colorbar\": {\"outlinewidth\": 0, \"ticks\": \"\"}}, \"type\": \"scatter\"}], \"scatter3d\": [{\"line\": {\"colorbar\": {\"outlinewidth\": 0, \"ticks\": \"\"}}, \"marker\": {\"colorbar\": {\"outlinewidth\": 0, \"ticks\": \"\"}}, \"type\": \"scatter3d\"}], \"scattercarpet\": [{\"marker\": {\"colorbar\": {\"outlinewidth\": 0, \"ticks\": \"\"}}, \"type\": \"scattercarpet\"}], \"scattergeo\": [{\"marker\": {\"colorbar\": {\"outlinewidth\": 0, \"ticks\": \"\"}}, \"type\": \"scattergeo\"}], \"scattergl\": [{\"marker\": {\"colorbar\": {\"outlinewidth\": 0, \"ticks\": \"\"}}, \"type\": \"scattergl\"}], \"scattermapbox\": [{\"marker\": {\"colorbar\": {\"outlinewidth\": 0, \"ticks\": \"\"}}, \"type\": \"scattermapbox\"}], \"scatterpolar\": [{\"marker\": {\"colorbar\": {\"outlinewidth\": 0, \"ticks\": \"\"}}, \"type\": \"scatterpolar\"}], \"scatterpolargl\": [{\"marker\": {\"colorbar\": {\"outlinewidth\": 0, \"ticks\": \"\"}}, \"type\": \"scatterpolargl\"}], \"scatterternary\": [{\"marker\": {\"colorbar\": {\"outlinewidth\": 0, \"ticks\": \"\"}}, \"type\": \"scatterternary\"}], \"surface\": [{\"colorbar\": {\"outlinewidth\": 0, \"ticks\": \"\"}, \"colorscale\": [[0.0, \"#0d0887\"], [0.1111111111111111, \"#46039f\"], [0.2222222222222222, \"#7201a8\"], [0.3333333333333333, \"#9c179e\"], [0.4444444444444444, \"#bd3786\"], [0.5555555555555556, \"#d8576b\"], [0.6666666666666666, \"#ed7953\"], [0.7777777777777778, \"#fb9f3a\"], [0.8888888888888888, \"#fdca26\"], [1.0, \"#f0f921\"]], \"type\": \"surface\"}], \"table\": [{\"cells\": {\"fill\": {\"color\": \"#EBF0F8\"}, \"line\": {\"color\": \"white\"}}, \"header\": {\"fill\": {\"color\": \"#C8D4E3\"}, \"line\": {\"color\": \"white\"}}, \"type\": \"table\"}]}, \"layout\": {\"annotationdefaults\": {\"arrowcolor\": \"#2a3f5f\", \"arrowhead\": 0, \"arrowwidth\": 1}, \"coloraxis\": {\"colorbar\": {\"outlinewidth\": 0, \"ticks\": \"\"}}, \"colorscale\": {\"diverging\": [[0, \"#8e0152\"], [0.1, \"#c51b7d\"], [0.2, \"#de77ae\"], [0.3, \"#f1b6da\"], [0.4, \"#fde0ef\"], [0.5, \"#f7f7f7\"], [0.6, \"#e6f5d0\"], [0.7, \"#b8e186\"], [0.8, \"#7fbc41\"], [0.9, \"#4d9221\"], [1, \"#276419\"]], \"sequential\": [[0.0, \"#0d0887\"], [0.1111111111111111, \"#46039f\"], [0.2222222222222222, \"#7201a8\"], [0.3333333333333333, \"#9c179e\"], [0.4444444444444444, \"#bd3786\"], [0.5555555555555556, \"#d8576b\"], [0.6666666666666666, \"#ed7953\"], [0.7777777777777778, \"#fb9f3a\"], [0.8888888888888888, \"#fdca26\"], [1.0, \"#f0f921\"]], \"sequentialminus\": [[0.0, \"#0d0887\"], [0.1111111111111111, \"#46039f\"], [0.2222222222222222, \"#7201a8\"], [0.3333333333333333, \"#9c179e\"], [0.4444444444444444, \"#bd3786\"], [0.5555555555555556, \"#d8576b\"], [0.6666666666666666, \"#ed7953\"], [0.7777777777777778, \"#fb9f3a\"], [0.8888888888888888, \"#fdca26\"], [1.0, \"#f0f921\"]]}, \"colorway\": [\"#636efa\", \"#EF553B\", \"#00cc96\", \"#ab63fa\", \"#FFA15A\", \"#19d3f3\", \"#FF6692\", \"#B6E880\", \"#FF97FF\", \"#FECB52\"], \"font\": {\"color\": \"#2a3f5f\"}, \"geo\": {\"bgcolor\": \"white\", \"lakecolor\": \"white\", \"landcolor\": \"#E5ECF6\", \"showlakes\": true, \"showland\": true, \"subunitcolor\": \"white\"}, \"hoverlabel\": {\"align\": \"left\"}, \"hovermode\": \"closest\", \"mapbox\": {\"style\": \"light\"}, \"paper_bgcolor\": \"white\", \"plot_bgcolor\": \"#E5ECF6\", \"polar\": {\"angularaxis\": {\"gridcolor\": \"white\", \"linecolor\": \"white\", \"ticks\": \"\"}, \"bgcolor\": \"#E5ECF6\", \"radialaxis\": {\"gridcolor\": \"white\", \"linecolor\": \"white\", \"ticks\": \"\"}}, \"scene\": {\"xaxis\": {\"backgroundcolor\": \"#E5ECF6\", \"gridcolor\": \"white\", \"gridwidth\": 2, \"linecolor\": \"white\", \"showbackground\": true, \"ticks\": \"\", \"zerolinecolor\": \"white\"}, \"yaxis\": {\"backgroundcolor\": \"#E5ECF6\", \"gridcolor\": \"white\", \"gridwidth\": 2, \"linecolor\": \"white\", \"showbackground\": true, \"ticks\": \"\", \"zerolinecolor\": \"white\"}, \"zaxis\": {\"backgroundcolor\": \"#E5ECF6\", \"gridcolor\": \"white\", \"gridwidth\": 2, \"linecolor\": \"white\", \"showbackground\": true, \"ticks\": \"\", \"zerolinecolor\": \"white\"}}, \"shapedefaults\": {\"line\": {\"color\": \"#2a3f5f\"}}, \"ternary\": {\"aaxis\": {\"gridcolor\": \"white\", \"linecolor\": \"white\", \"ticks\": \"\"}, \"baxis\": {\"gridcolor\": \"white\", \"linecolor\": \"white\", \"ticks\": \"\"}, \"bgcolor\": \"#E5ECF6\", \"caxis\": {\"gridcolor\": \"white\", \"linecolor\": \"white\", \"ticks\": \"\"}}, \"title\": {\"x\": 0.05}, \"xaxis\": {\"automargin\": true, \"gridcolor\": \"white\", \"linecolor\": \"white\", \"ticks\": \"\", \"title\": {\"standoff\": 15}, \"zerolinecolor\": \"white\", \"zerolinewidth\": 2}, \"yaxis\": {\"automargin\": true, \"gridcolor\": \"white\", \"linecolor\": \"white\", \"ticks\": \"\", \"title\": {\"standoff\": 15}, \"zerolinecolor\": \"white\", \"zerolinewidth\": 2}}}, \"title\": {\"text\": \"Billions spend by eu-LISA (\\u20ac)\", \"x\": 0.5, \"xanchor\": \"center\", \"y\": 0.95, \"yanchor\": \"top\"}, \"uniformtext\": {\"minsize\": 25, \"mode\": \"hide\"}, \"xaxis\": {\"anchor\": \"y\", \"domain\": [0.0, 1.0], \"title\": {\"text\": \"Year\"}}, \"yaxis\": {\"anchor\": \"x\", \"domain\": [0.0, 1.0], \"title\": {\"text\": \"Value\"}}},\n",
       "                        {\"responsive\": true}\n",
       "                    ).then(function(){\n",
       "                            \n",
       "var gd = document.getElementById('49aab71b-b144-4790-a2d3-94fe8abb6c45');\n",
       "var x = new MutationObserver(function (mutations, observer) {{\n",
       "        var display = window.getComputedStyle(gd).display;\n",
       "        if (!display || display === 'none') {{\n",
       "            console.log([gd, 'removed!']);\n",
       "            Plotly.purge(gd);\n",
       "            observer.disconnect();\n",
       "        }}\n",
       "}});\n",
       "\n",
       "// Listen for the removal of the full notebook cells\n",
       "var notebookContainer = gd.closest('#notebook-container');\n",
       "if (notebookContainer) {{\n",
       "    x.observe(notebookContainer, {childList: true});\n",
       "}}\n",
       "\n",
       "// Listen for the clearing of the current output cell\n",
       "var outputEl = gd.closest('.output');\n",
       "if (outputEl) {{\n",
       "    x.observe(outputEl, {childList: true});\n",
       "}}\n",
       "\n",
       "                        })\n",
       "                };\n",
       "                });\n",
       "            </script>\n",
       "        </div>"
      ]
     },
     "metadata": {},
     "output_type": "display_data"
    }
   ],
   "source": [
    "fig = px.scatter(year_value, x=\"Year\", y=\"Value\", text='Value')\n",
    "fig.update_layout(uniformtext_minsize=8, uniformtext_mode='hide',   title={\n",
    "        'text': \"Billions spend by eu-LISA (€)\",\n",
    "        'y':0.95,\n",
    "        'x':0.5,\n",
    "        'xanchor': 'center',\n",
    "        'yanchor': 'top'})\n",
    "fig.update_traces(texttemplate='%{text:.3s}', marker_color='darkblue', mode='lines+markers+text', textposition='top left', marker_size=8)\n",
    "fig.update_layout(uniformtext_minsize=25)\n",
    "fig.show()\n"
   ]
  },
  {
   "cell_type": "code",
   "execution_count": 107,
   "metadata": {},
   "outputs": [
    {
     "data": {
      "application/vnd.plotly.v1+json": {
       "config": {
        "plotlyServerURL": "https://plot.ly"
       },
       "data": [
        {
         "alignmentgroup": "True",
         "hoverlabel": {
          "namelength": 0
         },
         "hovertemplate": "Year=%{x}<br>Value=%{y}<br>text=%{text}",
         "legendgroup": "",
         "marker": {
          "color": "darkblue"
         },
         "name": "",
         "offsetgroup": "",
         "orientation": "v",
         "showlegend": false,
         "text": [
          "5.3M",
          "3.23B",
          "15B",
          "49M",
          "78M",
          "120M",
          "140M"
         ],
         "textposition": "outside",
         "texttemplate": "%{text}",
         "type": "bar",
         "x": [
          2013,
          2014,
          2015,
          2016,
          2017,
          2018,
          2019
         ],
         "xaxis": "x",
         "y": [
          5290526.160000001,
          3234790037.6699996,
          15002454847.12,
          49155563.239999995,
          77740806.13,
          116847338.90999998,
          143649538.58
         ],
         "yaxis": "y"
        }
       ],
       "layout": {
        "barmode": "relative",
        "legend": {
         "tracegroupgap": 0
        },
        "margin": {
         "t": 60
        },
        "template": {
         "data": {
          "bar": [
           {
            "error_x": {
             "color": "#2a3f5f"
            },
            "error_y": {
             "color": "#2a3f5f"
            },
            "marker": {
             "line": {
              "color": "#E5ECF6",
              "width": 0.5
             }
            },
            "type": "bar"
           }
          ],
          "barpolar": [
           {
            "marker": {
             "line": {
              "color": "#E5ECF6",
              "width": 0.5
             }
            },
            "type": "barpolar"
           }
          ],
          "carpet": [
           {
            "aaxis": {
             "endlinecolor": "#2a3f5f",
             "gridcolor": "white",
             "linecolor": "white",
             "minorgridcolor": "white",
             "startlinecolor": "#2a3f5f"
            },
            "baxis": {
             "endlinecolor": "#2a3f5f",
             "gridcolor": "white",
             "linecolor": "white",
             "minorgridcolor": "white",
             "startlinecolor": "#2a3f5f"
            },
            "type": "carpet"
           }
          ],
          "choropleth": [
           {
            "colorbar": {
             "outlinewidth": 0,
             "ticks": ""
            },
            "type": "choropleth"
           }
          ],
          "contour": [
           {
            "colorbar": {
             "outlinewidth": 0,
             "ticks": ""
            },
            "colorscale": [
             [
              0,
              "#0d0887"
             ],
             [
              0.1111111111111111,
              "#46039f"
             ],
             [
              0.2222222222222222,
              "#7201a8"
             ],
             [
              0.3333333333333333,
              "#9c179e"
             ],
             [
              0.4444444444444444,
              "#bd3786"
             ],
             [
              0.5555555555555556,
              "#d8576b"
             ],
             [
              0.6666666666666666,
              "#ed7953"
             ],
             [
              0.7777777777777778,
              "#fb9f3a"
             ],
             [
              0.8888888888888888,
              "#fdca26"
             ],
             [
              1,
              "#f0f921"
             ]
            ],
            "type": "contour"
           }
          ],
          "contourcarpet": [
           {
            "colorbar": {
             "outlinewidth": 0,
             "ticks": ""
            },
            "type": "contourcarpet"
           }
          ],
          "heatmap": [
           {
            "colorbar": {
             "outlinewidth": 0,
             "ticks": ""
            },
            "colorscale": [
             [
              0,
              "#0d0887"
             ],
             [
              0.1111111111111111,
              "#46039f"
             ],
             [
              0.2222222222222222,
              "#7201a8"
             ],
             [
              0.3333333333333333,
              "#9c179e"
             ],
             [
              0.4444444444444444,
              "#bd3786"
             ],
             [
              0.5555555555555556,
              "#d8576b"
             ],
             [
              0.6666666666666666,
              "#ed7953"
             ],
             [
              0.7777777777777778,
              "#fb9f3a"
             ],
             [
              0.8888888888888888,
              "#fdca26"
             ],
             [
              1,
              "#f0f921"
             ]
            ],
            "type": "heatmap"
           }
          ],
          "heatmapgl": [
           {
            "colorbar": {
             "outlinewidth": 0,
             "ticks": ""
            },
            "colorscale": [
             [
              0,
              "#0d0887"
             ],
             [
              0.1111111111111111,
              "#46039f"
             ],
             [
              0.2222222222222222,
              "#7201a8"
             ],
             [
              0.3333333333333333,
              "#9c179e"
             ],
             [
              0.4444444444444444,
              "#bd3786"
             ],
             [
              0.5555555555555556,
              "#d8576b"
             ],
             [
              0.6666666666666666,
              "#ed7953"
             ],
             [
              0.7777777777777778,
              "#fb9f3a"
             ],
             [
              0.8888888888888888,
              "#fdca26"
             ],
             [
              1,
              "#f0f921"
             ]
            ],
            "type": "heatmapgl"
           }
          ],
          "histogram": [
           {
            "marker": {
             "colorbar": {
              "outlinewidth": 0,
              "ticks": ""
             }
            },
            "type": "histogram"
           }
          ],
          "histogram2d": [
           {
            "colorbar": {
             "outlinewidth": 0,
             "ticks": ""
            },
            "colorscale": [
             [
              0,
              "#0d0887"
             ],
             [
              0.1111111111111111,
              "#46039f"
             ],
             [
              0.2222222222222222,
              "#7201a8"
             ],
             [
              0.3333333333333333,
              "#9c179e"
             ],
             [
              0.4444444444444444,
              "#bd3786"
             ],
             [
              0.5555555555555556,
              "#d8576b"
             ],
             [
              0.6666666666666666,
              "#ed7953"
             ],
             [
              0.7777777777777778,
              "#fb9f3a"
             ],
             [
              0.8888888888888888,
              "#fdca26"
             ],
             [
              1,
              "#f0f921"
             ]
            ],
            "type": "histogram2d"
           }
          ],
          "histogram2dcontour": [
           {
            "colorbar": {
             "outlinewidth": 0,
             "ticks": ""
            },
            "colorscale": [
             [
              0,
              "#0d0887"
             ],
             [
              0.1111111111111111,
              "#46039f"
             ],
             [
              0.2222222222222222,
              "#7201a8"
             ],
             [
              0.3333333333333333,
              "#9c179e"
             ],
             [
              0.4444444444444444,
              "#bd3786"
             ],
             [
              0.5555555555555556,
              "#d8576b"
             ],
             [
              0.6666666666666666,
              "#ed7953"
             ],
             [
              0.7777777777777778,
              "#fb9f3a"
             ],
             [
              0.8888888888888888,
              "#fdca26"
             ],
             [
              1,
              "#f0f921"
             ]
            ],
            "type": "histogram2dcontour"
           }
          ],
          "mesh3d": [
           {
            "colorbar": {
             "outlinewidth": 0,
             "ticks": ""
            },
            "type": "mesh3d"
           }
          ],
          "parcoords": [
           {
            "line": {
             "colorbar": {
              "outlinewidth": 0,
              "ticks": ""
             }
            },
            "type": "parcoords"
           }
          ],
          "pie": [
           {
            "automargin": true,
            "type": "pie"
           }
          ],
          "scatter": [
           {
            "marker": {
             "colorbar": {
              "outlinewidth": 0,
              "ticks": ""
             }
            },
            "type": "scatter"
           }
          ],
          "scatter3d": [
           {
            "line": {
             "colorbar": {
              "outlinewidth": 0,
              "ticks": ""
             }
            },
            "marker": {
             "colorbar": {
              "outlinewidth": 0,
              "ticks": ""
             }
            },
            "type": "scatter3d"
           }
          ],
          "scattercarpet": [
           {
            "marker": {
             "colorbar": {
              "outlinewidth": 0,
              "ticks": ""
             }
            },
            "type": "scattercarpet"
           }
          ],
          "scattergeo": [
           {
            "marker": {
             "colorbar": {
              "outlinewidth": 0,
              "ticks": ""
             }
            },
            "type": "scattergeo"
           }
          ],
          "scattergl": [
           {
            "marker": {
             "colorbar": {
              "outlinewidth": 0,
              "ticks": ""
             }
            },
            "type": "scattergl"
           }
          ],
          "scattermapbox": [
           {
            "marker": {
             "colorbar": {
              "outlinewidth": 0,
              "ticks": ""
             }
            },
            "type": "scattermapbox"
           }
          ],
          "scatterpolar": [
           {
            "marker": {
             "colorbar": {
              "outlinewidth": 0,
              "ticks": ""
             }
            },
            "type": "scatterpolar"
           }
          ],
          "scatterpolargl": [
           {
            "marker": {
             "colorbar": {
              "outlinewidth": 0,
              "ticks": ""
             }
            },
            "type": "scatterpolargl"
           }
          ],
          "scatterternary": [
           {
            "marker": {
             "colorbar": {
              "outlinewidth": 0,
              "ticks": ""
             }
            },
            "type": "scatterternary"
           }
          ],
          "surface": [
           {
            "colorbar": {
             "outlinewidth": 0,
             "ticks": ""
            },
            "colorscale": [
             [
              0,
              "#0d0887"
             ],
             [
              0.1111111111111111,
              "#46039f"
             ],
             [
              0.2222222222222222,
              "#7201a8"
             ],
             [
              0.3333333333333333,
              "#9c179e"
             ],
             [
              0.4444444444444444,
              "#bd3786"
             ],
             [
              0.5555555555555556,
              "#d8576b"
             ],
             [
              0.6666666666666666,
              "#ed7953"
             ],
             [
              0.7777777777777778,
              "#fb9f3a"
             ],
             [
              0.8888888888888888,
              "#fdca26"
             ],
             [
              1,
              "#f0f921"
             ]
            ],
            "type": "surface"
           }
          ],
          "table": [
           {
            "cells": {
             "fill": {
              "color": "#EBF0F8"
             },
             "line": {
              "color": "white"
             }
            },
            "header": {
             "fill": {
              "color": "#C8D4E3"
             },
             "line": {
              "color": "white"
             }
            },
            "type": "table"
           }
          ]
         },
         "layout": {
          "annotationdefaults": {
           "arrowcolor": "#2a3f5f",
           "arrowhead": 0,
           "arrowwidth": 1
          },
          "coloraxis": {
           "colorbar": {
            "outlinewidth": 0,
            "ticks": ""
           }
          },
          "colorscale": {
           "diverging": [
            [
             0,
             "#8e0152"
            ],
            [
             0.1,
             "#c51b7d"
            ],
            [
             0.2,
             "#de77ae"
            ],
            [
             0.3,
             "#f1b6da"
            ],
            [
             0.4,
             "#fde0ef"
            ],
            [
             0.5,
             "#f7f7f7"
            ],
            [
             0.6,
             "#e6f5d0"
            ],
            [
             0.7,
             "#b8e186"
            ],
            [
             0.8,
             "#7fbc41"
            ],
            [
             0.9,
             "#4d9221"
            ],
            [
             1,
             "#276419"
            ]
           ],
           "sequential": [
            [
             0,
             "#0d0887"
            ],
            [
             0.1111111111111111,
             "#46039f"
            ],
            [
             0.2222222222222222,
             "#7201a8"
            ],
            [
             0.3333333333333333,
             "#9c179e"
            ],
            [
             0.4444444444444444,
             "#bd3786"
            ],
            [
             0.5555555555555556,
             "#d8576b"
            ],
            [
             0.6666666666666666,
             "#ed7953"
            ],
            [
             0.7777777777777778,
             "#fb9f3a"
            ],
            [
             0.8888888888888888,
             "#fdca26"
            ],
            [
             1,
             "#f0f921"
            ]
           ],
           "sequentialminus": [
            [
             0,
             "#0d0887"
            ],
            [
             0.1111111111111111,
             "#46039f"
            ],
            [
             0.2222222222222222,
             "#7201a8"
            ],
            [
             0.3333333333333333,
             "#9c179e"
            ],
            [
             0.4444444444444444,
             "#bd3786"
            ],
            [
             0.5555555555555556,
             "#d8576b"
            ],
            [
             0.6666666666666666,
             "#ed7953"
            ],
            [
             0.7777777777777778,
             "#fb9f3a"
            ],
            [
             0.8888888888888888,
             "#fdca26"
            ],
            [
             1,
             "#f0f921"
            ]
           ]
          },
          "colorway": [
           "#636efa",
           "#EF553B",
           "#00cc96",
           "#ab63fa",
           "#FFA15A",
           "#19d3f3",
           "#FF6692",
           "#B6E880",
           "#FF97FF",
           "#FECB52"
          ],
          "font": {
           "color": "#2a3f5f"
          },
          "geo": {
           "bgcolor": "white",
           "lakecolor": "white",
           "landcolor": "#E5ECF6",
           "showlakes": true,
           "showland": true,
           "subunitcolor": "white"
          },
          "hoverlabel": {
           "align": "left"
          },
          "hovermode": "closest",
          "mapbox": {
           "style": "light"
          },
          "paper_bgcolor": "white",
          "plot_bgcolor": "#E5ECF6",
          "polar": {
           "angularaxis": {
            "gridcolor": "white",
            "linecolor": "white",
            "ticks": ""
           },
           "bgcolor": "#E5ECF6",
           "radialaxis": {
            "gridcolor": "white",
            "linecolor": "white",
            "ticks": ""
           }
          },
          "scene": {
           "xaxis": {
            "backgroundcolor": "#E5ECF6",
            "gridcolor": "white",
            "gridwidth": 2,
            "linecolor": "white",
            "showbackground": true,
            "ticks": "",
            "zerolinecolor": "white"
           },
           "yaxis": {
            "backgroundcolor": "#E5ECF6",
            "gridcolor": "white",
            "gridwidth": 2,
            "linecolor": "white",
            "showbackground": true,
            "ticks": "",
            "zerolinecolor": "white"
           },
           "zaxis": {
            "backgroundcolor": "#E5ECF6",
            "gridcolor": "white",
            "gridwidth": 2,
            "linecolor": "white",
            "showbackground": true,
            "ticks": "",
            "zerolinecolor": "white"
           }
          },
          "shapedefaults": {
           "line": {
            "color": "#2a3f5f"
           }
          },
          "ternary": {
           "aaxis": {
            "gridcolor": "white",
            "linecolor": "white",
            "ticks": ""
           },
           "baxis": {
            "gridcolor": "white",
            "linecolor": "white",
            "ticks": ""
           },
           "bgcolor": "#E5ECF6",
           "caxis": {
            "gridcolor": "white",
            "linecolor": "white",
            "ticks": ""
           }
          },
          "title": {
           "x": 0.05
          },
          "xaxis": {
           "automargin": true,
           "gridcolor": "white",
           "linecolor": "white",
           "ticks": "",
           "title": {
            "standoff": 15
           },
           "zerolinecolor": "white",
           "zerolinewidth": 2
          },
          "yaxis": {
           "automargin": true,
           "gridcolor": "white",
           "linecolor": "white",
           "ticks": "",
           "title": {
            "standoff": 15
           },
           "zerolinecolor": "white",
           "zerolinewidth": 2
          }
         }
        },
        "title": {
         "text": "Millions spend by eu-LISA (€)",
         "x": 0.5,
         "xanchor": "center",
         "y": 0.95,
         "yanchor": "top"
        },
        "uniformtext": {
         "minsize": 8,
         "mode": "hide"
        },
        "xaxis": {
         "anchor": "y",
         "domain": [
          0,
          1
         ],
         "title": {
          "text": "Year"
         }
        },
        "yaxis": {
         "anchor": "x",
         "domain": [
          0,
          1
         ],
         "title": {
          "text": "Value"
         }
        }
       }
      },
      "text/html": [
       "<div>\n",
       "        \n",
       "        \n",
       "            <div id=\"dc49a7cd-5bb9-49f6-9a47-1c24dfaed6d2\" class=\"plotly-graph-div\" style=\"height:525px; width:100%;\"></div>\n",
       "            <script type=\"text/javascript\">\n",
       "                require([\"plotly\"], function(Plotly) {\n",
       "                    window.PLOTLYENV=window.PLOTLYENV || {};\n",
       "                    \n",
       "                if (document.getElementById(\"dc49a7cd-5bb9-49f6-9a47-1c24dfaed6d2\")) {\n",
       "                    Plotly.newPlot(\n",
       "                        'dc49a7cd-5bb9-49f6-9a47-1c24dfaed6d2',\n",
       "                        [{\"alignmentgroup\": \"True\", \"hoverlabel\": {\"namelength\": 0}, \"hovertemplate\": \"Year=%{x}<br>Value=%{y}<br>text=%{text}\", \"legendgroup\": \"\", \"marker\": {\"color\": \"darkblue\"}, \"name\": \"\", \"offsetgroup\": \"\", \"orientation\": \"v\", \"showlegend\": false, \"text\": [\"5.3M\", \"3.23B\", \"15B\", \"49M\", \"78M\", \"120M\", \"140M\"], \"textposition\": \"outside\", \"texttemplate\": \"%{text}\", \"type\": \"bar\", \"x\": [2013, 2014, 2015, 2016, 2017, 2018, 2019], \"xaxis\": \"x\", \"y\": [5290526.160000001, 3234790037.6699996, 15002454847.12, 49155563.239999995, 77740806.13, 116847338.90999998, 143649538.58], \"yaxis\": \"y\"}],\n",
       "                        {\"barmode\": \"relative\", \"legend\": {\"tracegroupgap\": 0}, \"margin\": {\"t\": 60}, \"template\": {\"data\": {\"bar\": [{\"error_x\": {\"color\": \"#2a3f5f\"}, \"error_y\": {\"color\": \"#2a3f5f\"}, \"marker\": {\"line\": {\"color\": \"#E5ECF6\", \"width\": 0.5}}, \"type\": \"bar\"}], \"barpolar\": [{\"marker\": {\"line\": {\"color\": \"#E5ECF6\", \"width\": 0.5}}, \"type\": \"barpolar\"}], \"carpet\": [{\"aaxis\": {\"endlinecolor\": \"#2a3f5f\", \"gridcolor\": \"white\", \"linecolor\": \"white\", \"minorgridcolor\": \"white\", \"startlinecolor\": \"#2a3f5f\"}, \"baxis\": {\"endlinecolor\": \"#2a3f5f\", \"gridcolor\": \"white\", \"linecolor\": \"white\", \"minorgridcolor\": \"white\", \"startlinecolor\": \"#2a3f5f\"}, \"type\": \"carpet\"}], \"choropleth\": [{\"colorbar\": {\"outlinewidth\": 0, \"ticks\": \"\"}, \"type\": \"choropleth\"}], \"contour\": [{\"colorbar\": {\"outlinewidth\": 0, \"ticks\": \"\"}, \"colorscale\": [[0.0, \"#0d0887\"], [0.1111111111111111, \"#46039f\"], [0.2222222222222222, \"#7201a8\"], [0.3333333333333333, \"#9c179e\"], [0.4444444444444444, \"#bd3786\"], [0.5555555555555556, \"#d8576b\"], [0.6666666666666666, \"#ed7953\"], [0.7777777777777778, \"#fb9f3a\"], [0.8888888888888888, \"#fdca26\"], [1.0, \"#f0f921\"]], \"type\": \"contour\"}], \"contourcarpet\": [{\"colorbar\": {\"outlinewidth\": 0, \"ticks\": \"\"}, \"type\": \"contourcarpet\"}], \"heatmap\": [{\"colorbar\": {\"outlinewidth\": 0, \"ticks\": \"\"}, \"colorscale\": [[0.0, \"#0d0887\"], [0.1111111111111111, \"#46039f\"], [0.2222222222222222, \"#7201a8\"], [0.3333333333333333, \"#9c179e\"], [0.4444444444444444, \"#bd3786\"], [0.5555555555555556, \"#d8576b\"], [0.6666666666666666, \"#ed7953\"], [0.7777777777777778, \"#fb9f3a\"], [0.8888888888888888, \"#fdca26\"], [1.0, \"#f0f921\"]], \"type\": \"heatmap\"}], \"heatmapgl\": [{\"colorbar\": {\"outlinewidth\": 0, \"ticks\": \"\"}, \"colorscale\": [[0.0, \"#0d0887\"], [0.1111111111111111, \"#46039f\"], [0.2222222222222222, \"#7201a8\"], [0.3333333333333333, \"#9c179e\"], [0.4444444444444444, \"#bd3786\"], [0.5555555555555556, \"#d8576b\"], [0.6666666666666666, \"#ed7953\"], [0.7777777777777778, \"#fb9f3a\"], [0.8888888888888888, \"#fdca26\"], [1.0, \"#f0f921\"]], \"type\": \"heatmapgl\"}], \"histogram\": [{\"marker\": {\"colorbar\": {\"outlinewidth\": 0, \"ticks\": \"\"}}, \"type\": \"histogram\"}], \"histogram2d\": [{\"colorbar\": {\"outlinewidth\": 0, \"ticks\": \"\"}, \"colorscale\": [[0.0, \"#0d0887\"], [0.1111111111111111, \"#46039f\"], [0.2222222222222222, \"#7201a8\"], [0.3333333333333333, \"#9c179e\"], [0.4444444444444444, \"#bd3786\"], [0.5555555555555556, \"#d8576b\"], [0.6666666666666666, \"#ed7953\"], [0.7777777777777778, \"#fb9f3a\"], [0.8888888888888888, \"#fdca26\"], [1.0, \"#f0f921\"]], \"type\": \"histogram2d\"}], \"histogram2dcontour\": [{\"colorbar\": {\"outlinewidth\": 0, \"ticks\": \"\"}, \"colorscale\": [[0.0, \"#0d0887\"], [0.1111111111111111, \"#46039f\"], [0.2222222222222222, \"#7201a8\"], [0.3333333333333333, \"#9c179e\"], [0.4444444444444444, \"#bd3786\"], [0.5555555555555556, \"#d8576b\"], [0.6666666666666666, \"#ed7953\"], [0.7777777777777778, \"#fb9f3a\"], [0.8888888888888888, \"#fdca26\"], [1.0, \"#f0f921\"]], \"type\": \"histogram2dcontour\"}], \"mesh3d\": [{\"colorbar\": {\"outlinewidth\": 0, \"ticks\": \"\"}, \"type\": \"mesh3d\"}], \"parcoords\": [{\"line\": {\"colorbar\": {\"outlinewidth\": 0, \"ticks\": \"\"}}, \"type\": \"parcoords\"}], \"pie\": [{\"automargin\": true, \"type\": \"pie\"}], \"scatter\": [{\"marker\": {\"colorbar\": {\"outlinewidth\": 0, \"ticks\": \"\"}}, \"type\": \"scatter\"}], \"scatter3d\": [{\"line\": {\"colorbar\": {\"outlinewidth\": 0, \"ticks\": \"\"}}, \"marker\": {\"colorbar\": {\"outlinewidth\": 0, \"ticks\": \"\"}}, \"type\": \"scatter3d\"}], \"scattercarpet\": [{\"marker\": {\"colorbar\": {\"outlinewidth\": 0, \"ticks\": \"\"}}, \"type\": \"scattercarpet\"}], \"scattergeo\": [{\"marker\": {\"colorbar\": {\"outlinewidth\": 0, \"ticks\": \"\"}}, \"type\": \"scattergeo\"}], \"scattergl\": [{\"marker\": {\"colorbar\": {\"outlinewidth\": 0, \"ticks\": \"\"}}, \"type\": \"scattergl\"}], \"scattermapbox\": [{\"marker\": {\"colorbar\": {\"outlinewidth\": 0, \"ticks\": \"\"}}, \"type\": \"scattermapbox\"}], \"scatterpolar\": [{\"marker\": {\"colorbar\": {\"outlinewidth\": 0, \"ticks\": \"\"}}, \"type\": \"scatterpolar\"}], \"scatterpolargl\": [{\"marker\": {\"colorbar\": {\"outlinewidth\": 0, \"ticks\": \"\"}}, \"type\": \"scatterpolargl\"}], \"scatterternary\": [{\"marker\": {\"colorbar\": {\"outlinewidth\": 0, \"ticks\": \"\"}}, \"type\": \"scatterternary\"}], \"surface\": [{\"colorbar\": {\"outlinewidth\": 0, \"ticks\": \"\"}, \"colorscale\": [[0.0, \"#0d0887\"], [0.1111111111111111, \"#46039f\"], [0.2222222222222222, \"#7201a8\"], [0.3333333333333333, \"#9c179e\"], [0.4444444444444444, \"#bd3786\"], [0.5555555555555556, \"#d8576b\"], [0.6666666666666666, \"#ed7953\"], [0.7777777777777778, \"#fb9f3a\"], [0.8888888888888888, \"#fdca26\"], [1.0, \"#f0f921\"]], \"type\": \"surface\"}], \"table\": [{\"cells\": {\"fill\": {\"color\": \"#EBF0F8\"}, \"line\": {\"color\": \"white\"}}, \"header\": {\"fill\": {\"color\": \"#C8D4E3\"}, \"line\": {\"color\": \"white\"}}, \"type\": \"table\"}]}, \"layout\": {\"annotationdefaults\": {\"arrowcolor\": \"#2a3f5f\", \"arrowhead\": 0, \"arrowwidth\": 1}, \"coloraxis\": {\"colorbar\": {\"outlinewidth\": 0, \"ticks\": \"\"}}, \"colorscale\": {\"diverging\": [[0, \"#8e0152\"], [0.1, \"#c51b7d\"], [0.2, \"#de77ae\"], [0.3, \"#f1b6da\"], [0.4, \"#fde0ef\"], [0.5, \"#f7f7f7\"], [0.6, \"#e6f5d0\"], [0.7, \"#b8e186\"], [0.8, \"#7fbc41\"], [0.9, \"#4d9221\"], [1, \"#276419\"]], \"sequential\": [[0.0, \"#0d0887\"], [0.1111111111111111, \"#46039f\"], [0.2222222222222222, \"#7201a8\"], [0.3333333333333333, \"#9c179e\"], [0.4444444444444444, \"#bd3786\"], [0.5555555555555556, \"#d8576b\"], [0.6666666666666666, \"#ed7953\"], [0.7777777777777778, \"#fb9f3a\"], [0.8888888888888888, \"#fdca26\"], [1.0, \"#f0f921\"]], \"sequentialminus\": [[0.0, \"#0d0887\"], [0.1111111111111111, \"#46039f\"], [0.2222222222222222, \"#7201a8\"], [0.3333333333333333, \"#9c179e\"], [0.4444444444444444, \"#bd3786\"], [0.5555555555555556, \"#d8576b\"], [0.6666666666666666, \"#ed7953\"], [0.7777777777777778, \"#fb9f3a\"], [0.8888888888888888, \"#fdca26\"], [1.0, \"#f0f921\"]]}, \"colorway\": [\"#636efa\", \"#EF553B\", \"#00cc96\", \"#ab63fa\", \"#FFA15A\", \"#19d3f3\", \"#FF6692\", \"#B6E880\", \"#FF97FF\", \"#FECB52\"], \"font\": {\"color\": \"#2a3f5f\"}, \"geo\": {\"bgcolor\": \"white\", \"lakecolor\": \"white\", \"landcolor\": \"#E5ECF6\", \"showlakes\": true, \"showland\": true, \"subunitcolor\": \"white\"}, \"hoverlabel\": {\"align\": \"left\"}, \"hovermode\": \"closest\", \"mapbox\": {\"style\": \"light\"}, \"paper_bgcolor\": \"white\", \"plot_bgcolor\": \"#E5ECF6\", \"polar\": {\"angularaxis\": {\"gridcolor\": \"white\", \"linecolor\": \"white\", \"ticks\": \"\"}, \"bgcolor\": \"#E5ECF6\", \"radialaxis\": {\"gridcolor\": \"white\", \"linecolor\": \"white\", \"ticks\": \"\"}}, \"scene\": {\"xaxis\": {\"backgroundcolor\": \"#E5ECF6\", \"gridcolor\": \"white\", \"gridwidth\": 2, \"linecolor\": \"white\", \"showbackground\": true, \"ticks\": \"\", \"zerolinecolor\": \"white\"}, \"yaxis\": {\"backgroundcolor\": \"#E5ECF6\", \"gridcolor\": \"white\", \"gridwidth\": 2, \"linecolor\": \"white\", \"showbackground\": true, \"ticks\": \"\", \"zerolinecolor\": \"white\"}, \"zaxis\": {\"backgroundcolor\": \"#E5ECF6\", \"gridcolor\": \"white\", \"gridwidth\": 2, \"linecolor\": \"white\", \"showbackground\": true, \"ticks\": \"\", \"zerolinecolor\": \"white\"}}, \"shapedefaults\": {\"line\": {\"color\": \"#2a3f5f\"}}, \"ternary\": {\"aaxis\": {\"gridcolor\": \"white\", \"linecolor\": \"white\", \"ticks\": \"\"}, \"baxis\": {\"gridcolor\": \"white\", \"linecolor\": \"white\", \"ticks\": \"\"}, \"bgcolor\": \"#E5ECF6\", \"caxis\": {\"gridcolor\": \"white\", \"linecolor\": \"white\", \"ticks\": \"\"}}, \"title\": {\"x\": 0.05}, \"xaxis\": {\"automargin\": true, \"gridcolor\": \"white\", \"linecolor\": \"white\", \"ticks\": \"\", \"title\": {\"standoff\": 15}, \"zerolinecolor\": \"white\", \"zerolinewidth\": 2}, \"yaxis\": {\"automargin\": true, \"gridcolor\": \"white\", \"linecolor\": \"white\", \"ticks\": \"\", \"title\": {\"standoff\": 15}, \"zerolinecolor\": \"white\", \"zerolinewidth\": 2}}}, \"title\": {\"text\": \"Millions spend by eu-LISA (\\u20ac)\", \"x\": 0.5, \"xanchor\": \"center\", \"y\": 0.95, \"yanchor\": \"top\"}, \"uniformtext\": {\"minsize\": 8, \"mode\": \"hide\"}, \"xaxis\": {\"anchor\": \"y\", \"domain\": [0.0, 1.0], \"title\": {\"text\": \"Year\"}}, \"yaxis\": {\"anchor\": \"x\", \"domain\": [0.0, 1.0], \"title\": {\"text\": \"Value\"}}},\n",
       "                        {\"responsive\": true}\n",
       "                    ).then(function(){\n",
       "                            \n",
       "var gd = document.getElementById('dc49a7cd-5bb9-49f6-9a47-1c24dfaed6d2');\n",
       "var x = new MutationObserver(function (mutations, observer) {{\n",
       "        var display = window.getComputedStyle(gd).display;\n",
       "        if (!display || display === 'none') {{\n",
       "            console.log([gd, 'removed!']);\n",
       "            Plotly.purge(gd);\n",
       "            observer.disconnect();\n",
       "        }}\n",
       "}});\n",
       "\n",
       "// Listen for the removal of the full notebook cells\n",
       "var notebookContainer = gd.closest('#notebook-container');\n",
       "if (notebookContainer) {{\n",
       "    x.observe(notebookContainer, {childList: true});\n",
       "}}\n",
       "\n",
       "// Listen for the clearing of the current output cell\n",
       "var outputEl = gd.closest('.output');\n",
       "if (outputEl) {{\n",
       "    x.observe(outputEl, {childList: true});\n",
       "}}\n",
       "\n",
       "                        })\n",
       "                };\n",
       "                });\n",
       "            </script>\n",
       "        </div>"
      ]
     },
     "metadata": {},
     "output_type": "display_data"
    }
   ],
   "source": [
    "fig = px.bar(year_value, x=\"Year\", y=\"Value\", text=['5.3M', '3.23B', '15B', '49M', '78M', '120M', '140M'])\n",
    "fig.update_traces(texttemplate='%{text}', textposition='outside', marker_color='darkblue')\n",
    "fig.update_layout(uniformtext_minsize=8, uniformtext_mode='hide')\n",
    "fig.update_layout(uniformtext_minsize=8, uniformtext_mode='hide',   title={\n",
    "        'text': \"Millions spend by eu-LISA (€)\",\n",
    "        'y':0.95,\n",
    "        'x':0.5,\n",
    "        'xanchor': 'center',\n",
    "        'yanchor': 'top'})\n",
    "fig.show()"
   ]
  }
 ],
 "metadata": {
  "kernelspec": {
   "display_name": "Python (myenv)",
   "language": "python",
   "name": "myenv"
  },
  "language_info": {
   "codemirror_mode": {
    "name": "ipython",
    "version": 3
   },
   "file_extension": ".py",
   "mimetype": "text/x-python",
   "name": "python",
   "nbconvert_exporter": "python",
   "pygments_lexer": "ipython3",
   "version": "3.5.6"
  }
 },
 "nbformat": 4,
 "nbformat_minor": 2
}
